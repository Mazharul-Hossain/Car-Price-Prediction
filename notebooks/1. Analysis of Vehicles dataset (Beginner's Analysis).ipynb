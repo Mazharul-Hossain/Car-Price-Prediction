{
 "cells": [
  {
   "cell_type": "markdown",
   "metadata": {},
   "source": [
    "# Analysis of Vehicles dataset (Beginner's Analysis)\n",
    "\n",
    "1.2 Million Used Car Listings\n",
    "1.2 Million listings scraped from TrueCar.com - Price, Mileage, Make, Model\n",
    "\n",
    "link: https://www.kaggle.com/jpayne/852k-used-car-listings"
   ]
  },
  {
   "cell_type": "code",
   "execution_count": null,
   "metadata": {},
   "outputs": [],
   "source": [
    "import sys\n",
    "print(sys.executable)"
   ]
  },
  {
   "cell_type": "markdown",
   "metadata": {},
   "source": [
    "## 1. First we import necessary Libaries"
   ]
  },
  {
   "cell_type": "code",
   "execution_count": null,
   "metadata": {},
   "outputs": [],
   "source": [
    "import pandas as pd\n",
    "import numpy as np \n",
    "import matplotlib.pyplot as plt "
   ]
  },
  {
   "cell_type": "markdown",
   "metadata": {},
   "source": [
    "## 2.Reading and Exploring the Data"
   ]
  },
  {
   "cell_type": "markdown",
   "metadata": {},
   "source": [
    "### Load Vehicles Data"
   ]
  },
  {
   "cell_type": "code",
   "execution_count": null,
   "metadata": {},
   "outputs": [],
   "source": [
    "vehicles = pd.read_csv(\"datasets/true_car_listings.csv\")\n",
    "vehicles.info()"
   ]
  },
  {
   "cell_type": "code",
   "execution_count": null,
   "metadata": {
    "scrolled": true
   },
   "outputs": [],
   "source": [
    "vehicles.sample(5)"
   ]
  },
  {
   "cell_type": "code",
   "execution_count": null,
   "metadata": {},
   "outputs": [],
   "source": [
    "vehicles.describe()"
   ]
  },
  {
   "cell_type": "code",
   "execution_count": null,
   "metadata": {
    "scrolled": true
   },
   "outputs": [],
   "source": [
    "vehicles.shape"
   ]
  },
  {
   "cell_type": "markdown",
   "metadata": {},
   "source": [
    "## 3.Cleaning of data"
   ]
  },
  {
   "cell_type": "code",
   "execution_count": null,
   "metadata": {
    "scrolled": false
   },
   "outputs": [],
   "source": [
    "vehicles.isnull().any()"
   ]
  },
  {
   "cell_type": "code",
   "execution_count": null,
   "metadata": {
    "scrolled": true
   },
   "outputs": [],
   "source": [
    "vehicles.isnull().sum()"
   ]
  },
  {
   "cell_type": "code",
   "execution_count": null,
   "metadata": {},
   "outputs": [],
   "source": [
    "# # lets drop null rows\n",
    "# vehicles=vehicles.dropna()"
   ]
  },
  {
   "cell_type": "markdown",
   "metadata": {},
   "source": [
    "## 4.Data Analysis"
   ]
  },
  {
   "cell_type": "code",
   "execution_count": null,
   "metadata": {
    "scrolled": true
   },
   "outputs": [],
   "source": [
    "vehicle_top_price =  vehicles.loc[(vehicles.Year>=1970) & (vehicles.Price>=1000) & (vehicles.Price<=50000)].sort_values(by=['Price'], ascending=False)\n",
    "vehicle_top_price.head(5)"
   ]
  },
  {
   "cell_type": "code",
   "execution_count": null,
   "metadata": {
    "scrolled": true
   },
   "outputs": [],
   "source": [
    "vehicle_top_price.shape"
   ]
  },
  {
   "cell_type": "code",
   "execution_count": null,
   "metadata": {
    "scrolled": true
   },
   "outputs": [],
   "source": [
    "vehicle_top_price.describe()"
   ]
  },
  {
   "cell_type": "markdown",
   "metadata": {},
   "source": [
    "## 5. Data Visualization\n",
    "https://clrife.github.io/"
   ]
  },
  {
   "cell_type": "code",
   "execution_count": null,
   "metadata": {},
   "outputs": [],
   "source": [
    "import seaborn as sns"
   ]
  },
  {
   "cell_type": "code",
   "execution_count": null,
   "metadata": {},
   "outputs": [],
   "source": [
    "sns.pairplot(vehicle_top_price)"
   ]
  },
  {
   "cell_type": "code",
   "execution_count": null,
   "metadata": {
    "scrolled": false
   },
   "outputs": [],
   "source": [
    "# https://stackoverflow.com/a/31047434\n",
    "vehicles['Price'].plot.hist(figsize=(15,5), bins=100, alpha=0.7, rwidth=0.5, grid=True)"
   ]
  },
  {
   "cell_type": "code",
   "execution_count": null,
   "metadata": {},
   "outputs": [],
   "source": [
    "vehicle_top_price['Price'].plot.hist(figsize=(15,5), bins=51, alpha=0.7, rwidth=0.5, grid=True)"
   ]
  },
  {
   "cell_type": "code",
   "execution_count": null,
   "metadata": {},
   "outputs": [],
   "source": [
    "vehicle_top_price['Year'].plot.hist(figsize=(15,5), bins=22, alpha=0.9, rwidth=0.5, grid=True)"
   ]
  },
  {
   "cell_type": "code",
   "execution_count": null,
   "metadata": {
    "scrolled": false
   },
   "outputs": [],
   "source": [
    "# https://stackoverflow.com/a/48238312\n",
    "# df.groupby('year').case_status.value_counts().unstack(0).plot.barh()\n",
    "vehicle_top_price.groupby('Year').Price.count().plot.bar(figsize=(15,5), grid=True)"
   ]
  },
  {
   "cell_type": "code",
   "execution_count": null,
   "metadata": {},
   "outputs": [],
   "source": [
    "df = vehicle_top_price.groupby('year')"
   ]
  },
  {
   "cell_type": "code",
   "execution_count": null,
   "metadata": {
    "scrolled": true
   },
   "outputs": [],
   "source": [
    "# https://towardsdatascience.com/understanding-boxplots-5e2df7bcbd51\n",
    "# df = pd.DataFrame(vehicle_top_price, columns=['year', 'price'], index=vehicle_top_price.index)\n",
    "# grouped = df.groupby('year')\n",
    "# # grouped.first()\n",
    "# grouped.boxplot(vert=False, column='price', figsize=(15,15), grid=True, subplots=False)\n",
    "\n",
    "vehicle_top_price.boxplot(column = 'Price', by = 'Year', vert=False, figsize=(15,15), grid=True)"
   ]
  },
  {
   "cell_type": "code",
   "execution_count": null,
   "metadata": {},
   "outputs": [],
   "source": [
    "# vehicle_top_price.boxplot(column = 'price', by = ['year', 'manufacturer'], vert=False, figsize=(15,50), grid=True)"
   ]
  },
  {
   "cell_type": "markdown",
   "metadata": {},
   "source": [
    "## 6.1 Cleaning of data"
   ]
  },
  {
   "cell_type": "code",
   "execution_count": null,
   "metadata": {},
   "outputs": [],
   "source": [
    "vehicle_top_price = vehicles.loc[(vehicles.Year>=1970) & (vehicles.Price>=1000) & (vehicles.Price<=50000)].loc[:, ['Price', 'Mileage', 'Year']]"
   ]
  },
  {
   "cell_type": "code",
   "execution_count": null,
   "metadata": {
    "scrolled": false
   },
   "outputs": [],
   "source": [
    "vehicle_top_price.sample(5)"
   ]
  },
  {
   "cell_type": "code",
   "execution_count": null,
   "metadata": {
    "scrolled": true
   },
   "outputs": [],
   "source": [
    "vehicle_top_price.isnull().any()"
   ]
  },
  {
   "cell_type": "code",
   "execution_count": null,
   "metadata": {
    "scrolled": true
   },
   "outputs": [],
   "source": [
    "vehicle_top_price.isnull().sum()"
   ]
  },
  {
   "cell_type": "code",
   "execution_count": null,
   "metadata": {},
   "outputs": [],
   "source": [
    "vehicle_top_price=vehicle_top_price.dropna()"
   ]
  },
  {
   "cell_type": "code",
   "execution_count": null,
   "metadata": {
    "scrolled": true
   },
   "outputs": [],
   "source": [
    "vehicle_top_price.shape"
   ]
  },
  {
   "cell_type": "code",
   "execution_count": null,
   "metadata": {},
   "outputs": [],
   "source": [
    "vehicle_top_price['Price'] = vehicle_top_price['Price'] / vehicle_top_price['Price'].mean()"
   ]
  },
  {
   "cell_type": "code",
   "execution_count": null,
   "metadata": {},
   "outputs": [],
   "source": [
    "vehicle_top_price.sample(5)"
   ]
  },
  {
   "cell_type": "markdown",
   "metadata": {},
   "source": [
    "## 6.2 Regression "
   ]
  },
  {
   "cell_type": "code",
   "execution_count": null,
   "metadata": {},
   "outputs": [],
   "source": [
    "from sklearn.model_selection import KFold\n",
    "from sklearn.linear_model import LinearRegression"
   ]
  },
  {
   "cell_type": "code",
   "execution_count": null,
   "metadata": {},
   "outputs": [],
   "source": [
    "#added some parameters\n",
    "# https://stackoverflow.com/a/45116022\n",
    "kf5 = KFold(n_splits = 5, shuffle = True, random_state = 2)"
   ]
  },
  {
   "cell_type": "code",
   "execution_count": null,
   "metadata": {},
   "outputs": [],
   "source": [
    "scores, RMSE = [], []\n",
    "for train_index, test_index in kf5.split(vehicle_top_price):\n",
    "#     train_x = np.array(vehicle_top_price.iloc[train_index]['odometer']).reshape(-1, 1)\n",
    "#     test_x  = np.array(vehicle_top_price.iloc[test_index]['odometer']]).reshape(-1, 1)\n",
    "    \n",
    "    train_x = np.array(vehicle_top_price.iloc[train_index][['Mileage', 'Year']])\n",
    "    test_x  = np.array(vehicle_top_price.iloc[test_index][['Mileage', 'Year']])\n",
    "    \n",
    "    train_y =  vehicle_top_price.iloc[train_index]['Price']\n",
    "    test_y  =  vehicle_top_price.iloc[test_index]['Price']\n",
    "    \n",
    "    reg = LinearRegression().fit(train_x, train_y)\n",
    "    print(reg.score(train_x, train_y), reg.coef_, reg.intercept_)\n",
    "    \n",
    "    pred_y = reg.predict(test_x)\n",
    "    \n",
    "    rmse = np.sqrt(np.mean((pred_y-test_y)**2))\n",
    "    RMSE.append(rmse)\n",
    "    \n",
    "    score = reg.score(test_x, test_y)\n",
    "    scores.append(score)\n",
    "    print(score, rmse)\n",
    "    \n",
    "print(\"Avg score:\", round(np.mean(scores)*100, 3))\n",
    "print(\"Avg RMSE:\", round(np.mean(RMSE), 3))"
   ]
  }
 ],
 "metadata": {
  "kernelspec": {
   "display_name": "Python 3",
   "language": "python",
   "name": "python3"
  },
  "language_info": {
   "codemirror_mode": {
    "name": "ipython",
    "version": 3
   },
   "file_extension": ".py",
   "mimetype": "text/x-python",
   "name": "python",
   "nbconvert_exporter": "python",
   "pygments_lexer": "ipython3",
   "version": "3.7.3"
  }
 },
 "nbformat": 4,
 "nbformat_minor": 4
}
