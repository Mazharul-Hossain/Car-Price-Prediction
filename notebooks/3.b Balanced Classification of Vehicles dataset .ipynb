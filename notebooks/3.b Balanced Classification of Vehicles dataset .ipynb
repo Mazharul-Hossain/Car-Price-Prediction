{
 "cells": [
  {
   "cell_type": "markdown",
   "metadata": {},
   "source": [
    "# Analysis of Vehicles dataset (Beginner's Analysis)\n",
    "\n",
    "1.2 Million Used Car Listings\n",
    "1.2 Million listings scraped from TrueCar.com - Price, Mileage, Make, Model\n",
    "\n",
    "link: https://www.kaggle.com/jpayne/852k-used-car-listings"
   ]
  },
  {
   "cell_type": "code",
   "execution_count": 1,
   "metadata": {},
   "outputs": [
    {
     "name": "stdout",
     "output_type": "stream",
     "text": [
      "E:\\ProgramData\\Anaconda3\\python.exe\n"
     ]
    }
   ],
   "source": [
    "import sys\n",
    "print(sys.executable)"
   ]
  },
  {
   "cell_type": "markdown",
   "metadata": {},
   "source": [
    "## 1. First we import necessary Libaries"
   ]
  },
  {
   "cell_type": "code",
   "execution_count": 2,
   "metadata": {},
   "outputs": [],
   "source": [
    "import pandas as pd\n",
    "import numpy as np \n",
    "import matplotlib.pyplot as plt "
   ]
  },
  {
   "cell_type": "markdown",
   "metadata": {},
   "source": [
    "## 2.Reading and Exploring the Data"
   ]
  },
  {
   "cell_type": "markdown",
   "metadata": {},
   "source": [
    "### Load Vehicles Data"
   ]
  },
  {
   "cell_type": "code",
   "execution_count": 3,
   "metadata": {},
   "outputs": [
    {
     "name": "stdout",
     "output_type": "stream",
     "text": [
      "<class 'pandas.core.frame.DataFrame'>\n",
      "RangeIndex: 852122 entries, 0 to 852121\n",
      "Data columns (total 8 columns):\n",
      " #   Column   Non-Null Count   Dtype \n",
      "---  ------   --------------   ----- \n",
      " 0   Price    852122 non-null  int64 \n",
      " 1   Year     852122 non-null  int64 \n",
      " 2   Mileage  852122 non-null  int64 \n",
      " 3   City     852122 non-null  object\n",
      " 4   State    852122 non-null  object\n",
      " 5   Vin      852122 non-null  object\n",
      " 6   Make     852122 non-null  object\n",
      " 7   Model    852122 non-null  object\n",
      "dtypes: int64(3), object(5)\n",
      "memory usage: 52.0+ MB\n"
     ]
    }
   ],
   "source": [
    "vehicles = pd.read_csv(\"datasets/true_car_listings.csv\")\n",
    "vehicles.info()"
   ]
  },
  {
   "cell_type": "code",
   "execution_count": 4,
   "metadata": {
    "scrolled": true
   },
   "outputs": [
    {
     "data": {
      "text/html": [
       "<div>\n",
       "<style scoped>\n",
       "    .dataframe tbody tr th:only-of-type {\n",
       "        vertical-align: middle;\n",
       "    }\n",
       "\n",
       "    .dataframe tbody tr th {\n",
       "        vertical-align: top;\n",
       "    }\n",
       "\n",
       "    .dataframe thead th {\n",
       "        text-align: right;\n",
       "    }\n",
       "</style>\n",
       "<table border=\"1\" class=\"dataframe\">\n",
       "  <thead>\n",
       "    <tr style=\"text-align: right;\">\n",
       "      <th></th>\n",
       "      <th>Price</th>\n",
       "      <th>Year</th>\n",
       "      <th>Mileage</th>\n",
       "      <th>City</th>\n",
       "      <th>State</th>\n",
       "      <th>Vin</th>\n",
       "      <th>Make</th>\n",
       "      <th>Model</th>\n",
       "    </tr>\n",
       "  </thead>\n",
       "  <tbody>\n",
       "    <tr>\n",
       "      <th>665740</th>\n",
       "      <td>22176</td>\n",
       "      <td>2017</td>\n",
       "      <td>653</td>\n",
       "      <td>Kenner</td>\n",
       "      <td>LA</td>\n",
       "      <td>KNMAT2MT0HP522965</td>\n",
       "      <td>Nissan</td>\n",
       "      <td>RogueS</td>\n",
       "    </tr>\n",
       "    <tr>\n",
       "      <th>511135</th>\n",
       "      <td>19990</td>\n",
       "      <td>2013</td>\n",
       "      <td>42676</td>\n",
       "      <td>Westbrook</td>\n",
       "      <td>ME</td>\n",
       "      <td>1C4RJFAG5DC643872</td>\n",
       "      <td>Jeep</td>\n",
       "      <td>Grand</td>\n",
       "    </tr>\n",
       "    <tr>\n",
       "      <th>444232</th>\n",
       "      <td>9995</td>\n",
       "      <td>2014</td>\n",
       "      <td>100112</td>\n",
       "      <td>Lithia Springs</td>\n",
       "      <td>GA</td>\n",
       "      <td>KMHDH4AE1EU137875</td>\n",
       "      <td>Hyundai</td>\n",
       "      <td>Elantra4dr</td>\n",
       "    </tr>\n",
       "    <tr>\n",
       "      <th>109795</th>\n",
       "      <td>13872</td>\n",
       "      <td>2016</td>\n",
       "      <td>9302</td>\n",
       "      <td>Nelliston</td>\n",
       "      <td>NY</td>\n",
       "      <td>1G1PE5SBXG7116487</td>\n",
       "      <td>Chevrolet</td>\n",
       "      <td>Cruze</td>\n",
       "    </tr>\n",
       "    <tr>\n",
       "      <th>701382</th>\n",
       "      <td>45577</td>\n",
       "      <td>2017</td>\n",
       "      <td>17735</td>\n",
       "      <td>Fairlawn</td>\n",
       "      <td>NJ</td>\n",
       "      <td>WP1AA2A51HLB00740</td>\n",
       "      <td>Porsche</td>\n",
       "      <td>MacanAWD</td>\n",
       "    </tr>\n",
       "  </tbody>\n",
       "</table>\n",
       "</div>"
      ],
      "text/plain": [
       "        Price  Year  Mileage            City State                Vin  \\\n",
       "665740  22176  2017      653          Kenner    LA  KNMAT2MT0HP522965   \n",
       "511135  19990  2013    42676       Westbrook    ME  1C4RJFAG5DC643872   \n",
       "444232   9995  2014   100112  Lithia Springs    GA  KMHDH4AE1EU137875   \n",
       "109795  13872  2016     9302       Nelliston    NY  1G1PE5SBXG7116487   \n",
       "701382  45577  2017    17735        Fairlawn    NJ  WP1AA2A51HLB00740   \n",
       "\n",
       "             Make       Model  \n",
       "665740     Nissan      RogueS  \n",
       "511135       Jeep       Grand  \n",
       "444232    Hyundai  Elantra4dr  \n",
       "109795  Chevrolet       Cruze  \n",
       "701382    Porsche    MacanAWD  "
      ]
     },
     "execution_count": 4,
     "metadata": {},
     "output_type": "execute_result"
    }
   ],
   "source": [
    "vehicles.sample(5)"
   ]
  },
  {
   "cell_type": "code",
   "execution_count": 5,
   "metadata": {},
   "outputs": [
    {
     "data": {
      "text/html": [
       "<div>\n",
       "<style scoped>\n",
       "    .dataframe tbody tr th:only-of-type {\n",
       "        vertical-align: middle;\n",
       "    }\n",
       "\n",
       "    .dataframe tbody tr th {\n",
       "        vertical-align: top;\n",
       "    }\n",
       "\n",
       "    .dataframe thead th {\n",
       "        text-align: right;\n",
       "    }\n",
       "</style>\n",
       "<table border=\"1\" class=\"dataframe\">\n",
       "  <thead>\n",
       "    <tr style=\"text-align: right;\">\n",
       "      <th></th>\n",
       "      <th>Price</th>\n",
       "      <th>Year</th>\n",
       "      <th>Mileage</th>\n",
       "    </tr>\n",
       "  </thead>\n",
       "  <tbody>\n",
       "    <tr>\n",
       "      <th>count</th>\n",
       "      <td>852122.000000</td>\n",
       "      <td>852122.000000</td>\n",
       "      <td>8.521220e+05</td>\n",
       "    </tr>\n",
       "    <tr>\n",
       "      <th>mean</th>\n",
       "      <td>21464.100210</td>\n",
       "      <td>2013.289145</td>\n",
       "      <td>5.250779e+04</td>\n",
       "    </tr>\n",
       "    <tr>\n",
       "      <th>std</th>\n",
       "      <td>13596.202241</td>\n",
       "      <td>3.414987</td>\n",
       "      <td>4.198896e+04</td>\n",
       "    </tr>\n",
       "    <tr>\n",
       "      <th>min</th>\n",
       "      <td>1500.000000</td>\n",
       "      <td>1997.000000</td>\n",
       "      <td>5.000000e+00</td>\n",
       "    </tr>\n",
       "    <tr>\n",
       "      <th>25%</th>\n",
       "      <td>13000.000000</td>\n",
       "      <td>2012.000000</td>\n",
       "      <td>2.383600e+04</td>\n",
       "    </tr>\n",
       "    <tr>\n",
       "      <th>50%</th>\n",
       "      <td>18500.000000</td>\n",
       "      <td>2014.000000</td>\n",
       "      <td>4.025600e+04</td>\n",
       "    </tr>\n",
       "    <tr>\n",
       "      <th>75%</th>\n",
       "      <td>26995.000000</td>\n",
       "      <td>2016.000000</td>\n",
       "      <td>7.218600e+04</td>\n",
       "    </tr>\n",
       "    <tr>\n",
       "      <th>max</th>\n",
       "      <td>499500.000000</td>\n",
       "      <td>2018.000000</td>\n",
       "      <td>2.856196e+06</td>\n",
       "    </tr>\n",
       "  </tbody>\n",
       "</table>\n",
       "</div>"
      ],
      "text/plain": [
       "               Price           Year       Mileage\n",
       "count  852122.000000  852122.000000  8.521220e+05\n",
       "mean    21464.100210    2013.289145  5.250779e+04\n",
       "std     13596.202241       3.414987  4.198896e+04\n",
       "min      1500.000000    1997.000000  5.000000e+00\n",
       "25%     13000.000000    2012.000000  2.383600e+04\n",
       "50%     18500.000000    2014.000000  4.025600e+04\n",
       "75%     26995.000000    2016.000000  7.218600e+04\n",
       "max    499500.000000    2018.000000  2.856196e+06"
      ]
     },
     "execution_count": 5,
     "metadata": {},
     "output_type": "execute_result"
    }
   ],
   "source": [
    "vehicles.describe()"
   ]
  },
  {
   "cell_type": "code",
   "execution_count": 6,
   "metadata": {
    "scrolled": true
   },
   "outputs": [
    {
     "data": {
      "text/plain": [
       "(852122, 8)"
      ]
     },
     "execution_count": 6,
     "metadata": {},
     "output_type": "execute_result"
    }
   ],
   "source": [
    "vehicles.shape"
   ]
  },
  {
   "cell_type": "markdown",
   "metadata": {},
   "source": [
    "## 3 Dataset for car from 1970 and price is not greater than 50k"
   ]
  },
  {
   "cell_type": "markdown",
   "metadata": {},
   "source": [
    "### 3.1 Data Analysis"
   ]
  },
  {
   "cell_type": "code",
   "execution_count": 7,
   "metadata": {},
   "outputs": [
    {
     "data": {
      "text/plain": [
       "(830059, 7)"
      ]
     },
     "execution_count": 7,
     "metadata": {},
     "output_type": "execute_result"
    }
   ],
   "source": [
    "vehicle_top_price = vehicles.loc[(vehicles.Year>=1970) & (vehicles.Price>=1000) & (vehicles.Price<=50000) \n",
    "                                 & (vehicles.Mileage<=300000)].loc[:, ['Price', 'Year', \n",
    "                                                                                'Mileage', 'City', 'State', 'Make', 'Model']]\n",
    "vehicle_top_price.shape"
   ]
  },
  {
   "cell_type": "code",
   "execution_count": 8,
   "metadata": {
    "scrolled": false
   },
   "outputs": [
    {
     "data": {
      "text/html": [
       "<div>\n",
       "<style scoped>\n",
       "    .dataframe tbody tr th:only-of-type {\n",
       "        vertical-align: middle;\n",
       "    }\n",
       "\n",
       "    .dataframe tbody tr th {\n",
       "        vertical-align: top;\n",
       "    }\n",
       "\n",
       "    .dataframe thead th {\n",
       "        text-align: right;\n",
       "    }\n",
       "</style>\n",
       "<table border=\"1\" class=\"dataframe\">\n",
       "  <thead>\n",
       "    <tr style=\"text-align: right;\">\n",
       "      <th></th>\n",
       "      <th>Price</th>\n",
       "      <th>Year</th>\n",
       "      <th>Mileage</th>\n",
       "      <th>City</th>\n",
       "      <th>State</th>\n",
       "      <th>Make</th>\n",
       "      <th>Model</th>\n",
       "    </tr>\n",
       "  </thead>\n",
       "  <tbody>\n",
       "    <tr>\n",
       "      <th>474729</th>\n",
       "      <td>30997</td>\n",
       "      <td>2014</td>\n",
       "      <td>34684</td>\n",
       "      <td>Jacksonville</td>\n",
       "      <td>FL</td>\n",
       "      <td>INFINITI</td>\n",
       "      <td>Q60</td>\n",
       "    </tr>\n",
       "    <tr>\n",
       "      <th>845978</th>\n",
       "      <td>7994</td>\n",
       "      <td>2006</td>\n",
       "      <td>91757</td>\n",
       "      <td>Fairfield</td>\n",
       "      <td>OH</td>\n",
       "      <td>Volkswagen</td>\n",
       "      <td>Jetta</td>\n",
       "    </tr>\n",
       "    <tr>\n",
       "      <th>650839</th>\n",
       "      <td>10995</td>\n",
       "      <td>2013</td>\n",
       "      <td>48570</td>\n",
       "      <td>Los Angeles</td>\n",
       "      <td>CA</td>\n",
       "      <td>Nissan</td>\n",
       "      <td>SentraSR</td>\n",
       "    </tr>\n",
       "    <tr>\n",
       "      <th>771354</th>\n",
       "      <td>14990</td>\n",
       "      <td>2012</td>\n",
       "      <td>61372</td>\n",
       "      <td>Pinellas Park</td>\n",
       "      <td>FL</td>\n",
       "      <td>Toyota</td>\n",
       "      <td>RAV4FWD</td>\n",
       "    </tr>\n",
       "    <tr>\n",
       "      <th>627921</th>\n",
       "      <td>14790</td>\n",
       "      <td>2015</td>\n",
       "      <td>22574</td>\n",
       "      <td>Fredericksburg</td>\n",
       "      <td>VA</td>\n",
       "      <td>Mitsubishi</td>\n",
       "      <td>Outlander</td>\n",
       "    </tr>\n",
       "  </tbody>\n",
       "</table>\n",
       "</div>"
      ],
      "text/plain": [
       "        Price  Year  Mileage            City State        Make      Model\n",
       "474729  30997  2014    34684    Jacksonville    FL    INFINITI        Q60\n",
       "845978   7994  2006    91757       Fairfield    OH  Volkswagen      Jetta\n",
       "650839  10995  2013    48570     Los Angeles    CA      Nissan   SentraSR\n",
       "771354  14990  2012    61372   Pinellas Park    FL      Toyota    RAV4FWD\n",
       "627921  14790  2015    22574  Fredericksburg    VA  Mitsubishi  Outlander"
      ]
     },
     "execution_count": 8,
     "metadata": {},
     "output_type": "execute_result"
    }
   ],
   "source": [
    "vehicle_top_price.sample(5)"
   ]
  },
  {
   "cell_type": "code",
   "execution_count": 9,
   "metadata": {
    "scrolled": true
   },
   "outputs": [
    {
     "data": {
      "text/html": [
       "<div>\n",
       "<style scoped>\n",
       "    .dataframe tbody tr th:only-of-type {\n",
       "        vertical-align: middle;\n",
       "    }\n",
       "\n",
       "    .dataframe tbody tr th {\n",
       "        vertical-align: top;\n",
       "    }\n",
       "\n",
       "    .dataframe thead th {\n",
       "        text-align: right;\n",
       "    }\n",
       "</style>\n",
       "<table border=\"1\" class=\"dataframe\">\n",
       "  <thead>\n",
       "    <tr style=\"text-align: right;\">\n",
       "      <th></th>\n",
       "      <th>Price</th>\n",
       "      <th>Year</th>\n",
       "      <th>Mileage</th>\n",
       "    </tr>\n",
       "  </thead>\n",
       "  <tbody>\n",
       "    <tr>\n",
       "      <th>count</th>\n",
       "      <td>830059.000000</td>\n",
       "      <td>830059.000000</td>\n",
       "      <td>830059.000000</td>\n",
       "    </tr>\n",
       "    <tr>\n",
       "      <th>mean</th>\n",
       "      <td>20210.714328</td>\n",
       "      <td>2013.237171</td>\n",
       "      <td>53198.364920</td>\n",
       "    </tr>\n",
       "    <tr>\n",
       "      <th>std</th>\n",
       "      <td>9732.591999</td>\n",
       "      <td>3.420433</td>\n",
       "      <td>40821.316722</td>\n",
       "    </tr>\n",
       "    <tr>\n",
       "      <th>min</th>\n",
       "      <td>1500.000000</td>\n",
       "      <td>1997.000000</td>\n",
       "      <td>5.000000</td>\n",
       "    </tr>\n",
       "    <tr>\n",
       "      <th>25%</th>\n",
       "      <td>12995.000000</td>\n",
       "      <td>2012.000000</td>\n",
       "      <td>24558.000000</td>\n",
       "    </tr>\n",
       "    <tr>\n",
       "      <th>50%</th>\n",
       "      <td>18000.000000</td>\n",
       "      <td>2014.000000</td>\n",
       "      <td>40957.000000</td>\n",
       "    </tr>\n",
       "    <tr>\n",
       "      <th>75%</th>\n",
       "      <td>26020.500000</td>\n",
       "      <td>2016.000000</td>\n",
       "      <td>73322.000000</td>\n",
       "    </tr>\n",
       "    <tr>\n",
       "      <th>max</th>\n",
       "      <td>50000.000000</td>\n",
       "      <td>2018.000000</td>\n",
       "      <td>300000.000000</td>\n",
       "    </tr>\n",
       "  </tbody>\n",
       "</table>\n",
       "</div>"
      ],
      "text/plain": [
       "               Price           Year        Mileage\n",
       "count  830059.000000  830059.000000  830059.000000\n",
       "mean    20210.714328    2013.237171   53198.364920\n",
       "std      9732.591999       3.420433   40821.316722\n",
       "min      1500.000000    1997.000000       5.000000\n",
       "25%     12995.000000    2012.000000   24558.000000\n",
       "50%     18000.000000    2014.000000   40957.000000\n",
       "75%     26020.500000    2016.000000   73322.000000\n",
       "max     50000.000000    2018.000000  300000.000000"
      ]
     },
     "execution_count": 9,
     "metadata": {},
     "output_type": "execute_result"
    }
   ],
   "source": [
    "vehicle_top_price.describe()"
   ]
  },
  {
   "cell_type": "code",
   "execution_count": 10,
   "metadata": {},
   "outputs": [
    {
     "data": {
      "text/plain": [
       "Price       int64\n",
       "Year        int64\n",
       "Mileage     int64\n",
       "City       object\n",
       "State      object\n",
       "Make       object\n",
       "Model      object\n",
       "dtype: object"
      ]
     },
     "execution_count": 10,
     "metadata": {},
     "output_type": "execute_result"
    }
   ],
   "source": [
    "vehicle_top_price.dtypes"
   ]
  },
  {
   "cell_type": "markdown",
   "metadata": {},
   "source": [
    "### 3.2 Cleaning of data"
   ]
  },
  {
   "cell_type": "code",
   "execution_count": 11,
   "metadata": {
    "scrolled": false
   },
   "outputs": [
    {
     "data": {
      "text/plain": [
       "Price      False\n",
       "Year       False\n",
       "Mileage    False\n",
       "City       False\n",
       "State      False\n",
       "Make       False\n",
       "Model      False\n",
       "dtype: bool"
      ]
     },
     "execution_count": 11,
     "metadata": {},
     "output_type": "execute_result"
    }
   ],
   "source": [
    "vehicle_top_price.isnull().any()"
   ]
  },
  {
   "cell_type": "code",
   "execution_count": 12,
   "metadata": {
    "scrolled": true
   },
   "outputs": [
    {
     "data": {
      "text/plain": [
       "Price      0\n",
       "Year       0\n",
       "Mileage    0\n",
       "City       0\n",
       "State      0\n",
       "Make       0\n",
       "Model      0\n",
       "dtype: int64"
      ]
     },
     "execution_count": 12,
     "metadata": {},
     "output_type": "execute_result"
    }
   ],
   "source": [
    "vehicle_top_price.isnull().sum()"
   ]
  },
  {
   "cell_type": "code",
   "execution_count": 13,
   "metadata": {},
   "outputs": [],
   "source": [
    "# lets drop null rows\n",
    "vehicle_top_price = vehicle_top_price.dropna()"
   ]
  },
  {
   "cell_type": "code",
   "execution_count": 14,
   "metadata": {
    "scrolled": true
   },
   "outputs": [
    {
     "data": {
      "text/plain": [
       "(830059, 7)"
      ]
     },
     "execution_count": 14,
     "metadata": {},
     "output_type": "execute_result"
    }
   ],
   "source": [
    "vehicle_top_price.shape"
   ]
  },
  {
   "cell_type": "markdown",
   "metadata": {},
   "source": [
    "### 3.3 Understand the relation between Price and the number of Class"
   ]
  },
  {
   "cell_type": "code",
   "execution_count": 15,
   "metadata": {},
   "outputs": [],
   "source": [
    "# vehicle_top_price['Price'].plot.hist(figsize=(15,5), bins=7, alpha=0.7, rwidth=0.5, grid=True)\n",
    "# vehicle_top_price['Price'].plot.hist(figsize=(15,5), bins=10, alpha=0.7, rwidth=0.5, grid=True)\n",
    "# vehicle_top_price['Price'].plot.hist(figsize=(15,5), bins=12, alpha=0.7, rwidth=0.5, grid=True)"
   ]
  },
  {
   "cell_type": "markdown",
   "metadata": {},
   "source": [
    "#### 3.3.1 Equal-Width Binning:"
   ]
  },
  {
   "cell_type": "code",
   "execution_count": 16,
   "metadata": {},
   "outputs": [
    {
     "data": {
      "image/png": "[encoded data removed]",
      "text/plain": [
       "<Figure size 432x288 with 1 Axes>"
      ]
     },
     "metadata": {
      "needs_background": "light"
     },
     "output_type": "display_data"
    }
   ],
   "source": [
    "#create histogram with equal-width bins\n",
    "n, bins, patches = plt.hist(vehicle_top_price['Price'], edgecolor='black', alpha=0.7, rwidth=0.5)\n",
    "plt.grid(True)\n",
    "plt.show()"
   ]
  },
  {
   "cell_type": "code",
   "execution_count": 17,
   "metadata": {},
   "outputs": [
    {
     "data": {
      "text/plain": [
       "(10,\n",
       " array([ 1500.,  6350., 11200., 16050., 20900., 25750., 30600., 35450.,\n",
       "        40300., 45150., 50000.]),\n",
       " array([ 31065., 111154., 195025., 162034., 110875.,  90624.,  58890.,\n",
       "         37314.,  19360.,  13718.]))"
      ]
     },
     "execution_count": 17,
     "metadata": {},
     "output_type": "execute_result"
    }
   ],
   "source": [
    "#display bin boundaries and frequency per bin \n",
    "num_class = len(bins) - 1\n",
    "num_class, bins, n"
   ]
  },
  {
   "cell_type": "markdown",
   "metadata": {},
   "source": [
    "#### 3.3.2 Equal-Frequency Binning:"
   ]
  },
  {
   "cell_type": "code",
   "execution_count": 18,
   "metadata": {},
   "outputs": [],
   "source": [
    "#define function to calculate equal-frequency bins \n",
    "def equalObs(x, nbin):\n",
    "    nlen = len(x)\n",
    "    return np.interp(np.linspace(0, nlen, nbin + 1),\n",
    "                     np.arange(nlen),\n",
    "                     np.sort(x))"
   ]
  },
  {
   "cell_type": "code",
   "execution_count": 19,
   "metadata": {},
   "outputs": [
    {
     "data": {
      "image/png": "[encoded data removed]",
      "text/plain": [
       "<Figure size 432x288 with 1 Axes>"
      ]
     },
     "metadata": {
      "needs_background": "light"
     },
     "output_type": "display_data"
    }
   ],
   "source": [
    "#create histogram with equal-frequency bins \n",
    "n, bins, patches = plt.hist(vehicle_top_price['Price'], \n",
    "                            equalObs(vehicle_top_price['Price'], num_class), edgecolor='black', alpha=0.7, rwidth=0.5)\n",
    "plt.grid(True)\n",
    "plt.show()"
   ]
  },
  {
   "cell_type": "code",
   "execution_count": 20,
   "metadata": {
    "scrolled": true
   },
   "outputs": [
    {
     "data": {
      "text/plain": [
       "(10,\n",
       " array([ 1500.,  8998., 11995., 13995., 15997., 18000., 20870., 24000.,\n",
       "        28495., 34000., 50000.]),\n",
       " array([82666., 83149., 78683., 87305., 82983., 83247., 82319., 83547.,\n",
       "        82963., 83197.]))"
      ]
     },
     "execution_count": 20,
     "metadata": {},
     "output_type": "execute_result"
    }
   ],
   "source": [
    "#display bin boundaries and frequency per bin \n",
    "num_class, bins, n"
   ]
  },
  {
   "cell_type": "markdown",
   "metadata": {},
   "source": [
    "### 3.4 EDA"
   ]
  },
  {
   "cell_type": "code",
   "execution_count": 21,
   "metadata": {},
   "outputs": [],
   "source": [
    "import pandas_profiling as pp"
   ]
  },
  {
   "cell_type": "code",
   "execution_count": 22,
   "metadata": {},
   "outputs": [],
   "source": [
    "# profile = pp.ProfileReport(vehicle_top_price, title='Pandas Profiling Report', explorative=True)\n",
    "# profile.to_widgets()\n",
    "# # profile.to_notebook_iframe()"
   ]
  },
  {
   "cell_type": "markdown",
   "metadata": {},
   "source": [
    "### 3.3 Normalize the Data\n",
    "Used Cars Price Prediction by 15 models\n",
    "https://www.kaggle.com/vbmokin/used-cars-price-prediction-by-15-models"
   ]
  },
  {
   "cell_type": "code",
   "execution_count": 23,
   "metadata": {},
   "outputs": [],
   "source": [
    "from sklearn.preprocessing import LabelEncoder, StandardScaler"
   ]
  },
  {
   "cell_type": "code",
   "execution_count": 25,
   "metadata": {},
   "outputs": [
    {
     "data": {
      "text/plain": [
       "array([ 1500.,  8998., 11995., 13995., 15997., 18000., 20870., 24000.,\n",
       "       28495., 34000., 50000.])"
      ]
     },
     "execution_count": 25,
     "metadata": {},
     "output_type": "execute_result"
    }
   ],
   "source": [
    "# https://stackoverflow.com/a/53028100 \n",
    "# vehicle_top_price['class'] = pd.cut(vehicle_top_price.Price, bins=num_class, labels=np.arange(num_class), right=False)\n",
    "\n",
    "vehicle_top_price['class'], price_bins = pd.qcut(vehicle_top_price.Price, q=num_class, labels=False, retbins=True)\n",
    "vehicle_top_price = vehicle_top_price.drop(['Price'], axis=1)\n",
    "\n",
    "price_bins"
   ]
  },
  {
   "cell_type": "code",
   "execution_count": 25,
   "metadata": {},
   "outputs": [],
   "source": [
    "car_year_min = vehicle_top_price['Year'].min()\n",
    "vehicle_top_price['Year'] = (vehicle_top_price['Year'] - car_year_min).astype(int)"
   ]
  },
  {
   "cell_type": "code",
   "execution_count": 26,
   "metadata": {},
   "outputs": [],
   "source": [
    "car_mileage_mean = vehicle_top_price['Mileage'].mean()\n",
    "vehicle_top_price['Mileage'] = (vehicle_top_price['Mileage'] / car_mileage_mean).astype('float64')"
   ]
  },
  {
   "cell_type": "code",
   "execution_count": null,
   "metadata": {},
   "outputs": [],
   "source": []
  },
  {
   "cell_type": "code",
   "execution_count": 27,
   "metadata": {},
   "outputs": [],
   "source": [
    "# # perform one hot encoding on multiple categorical columns: https://datascience.stackexchange.com/a/71805\n",
    "# # https://stackoverflow.com/a/44601764\n",
    "# vehicle_top_price = pd.get_dummies(vehicle_top_price, columns=['City', 'State', 'Make', 'Model'], drop_first=True)\n",
    "# vehicle_top_price.columns"
   ]
  },
  {
   "cell_type": "code",
   "execution_count": 28,
   "metadata": {},
   "outputs": [],
   "source": [
    "# https://scikit-learn.org/stable/modules/generated/sklearn.preprocessing.LabelEncoder.html\n",
    "for col in ['City', 'State', 'Make', 'Model']:\n",
    "    le = LabelEncoder()\n",
    "    le.fit(list(vehicle_top_price[col].astype(str).values))\n",
    "    vehicle_top_price[col] = le.transform(list(vehicle_top_price[col].astype(str).values))\n",
    "    le.get_params()"
   ]
  },
  {
   "cell_type": "code",
   "execution_count": 29,
   "metadata": {
    "scrolled": true
   },
   "outputs": [
    {
     "data": {
      "text/html": [
       "<div>\n",
       "<style scoped>\n",
       "    .dataframe tbody tr th:only-of-type {\n",
       "        vertical-align: middle;\n",
       "    }\n",
       "\n",
       "    .dataframe tbody tr th {\n",
       "        vertical-align: top;\n",
       "    }\n",
       "\n",
       "    .dataframe thead th {\n",
       "        text-align: right;\n",
       "    }\n",
       "</style>\n",
       "<table border=\"1\" class=\"dataframe\">\n",
       "  <thead>\n",
       "    <tr style=\"text-align: right;\">\n",
       "      <th></th>\n",
       "      <th>Year</th>\n",
       "      <th>Mileage</th>\n",
       "      <th>City</th>\n",
       "      <th>State</th>\n",
       "      <th>Make</th>\n",
       "      <th>Model</th>\n",
       "      <th>class</th>\n",
       "    </tr>\n",
       "  </thead>\n",
       "  <tbody>\n",
       "    <tr>\n",
       "      <th>533821</th>\n",
       "      <td>17</td>\n",
       "      <td>1.237500</td>\n",
       "      <td>666</td>\n",
       "      <td>18</td>\n",
       "      <td>26</td>\n",
       "      <td>1493</td>\n",
       "      <td>4</td>\n",
       "    </tr>\n",
       "    <tr>\n",
       "      <th>83367</th>\n",
       "      <td>17</td>\n",
       "      <td>0.812168</td>\n",
       "      <td>1018</td>\n",
       "      <td>49</td>\n",
       "      <td>8</td>\n",
       "      <td>785</td>\n",
       "      <td>9</td>\n",
       "    </tr>\n",
       "    <tr>\n",
       "      <th>796038</th>\n",
       "      <td>13</td>\n",
       "      <td>2.203056</td>\n",
       "      <td>1008</td>\n",
       "      <td>11</td>\n",
       "      <td>49</td>\n",
       "      <td>594</td>\n",
       "      <td>0</td>\n",
       "    </tr>\n",
       "    <tr>\n",
       "      <th>470149</th>\n",
       "      <td>17</td>\n",
       "      <td>0.514358</td>\n",
       "      <td>29</td>\n",
       "      <td>37</td>\n",
       "      <td>22</td>\n",
       "      <td>1615</td>\n",
       "      <td>7</td>\n",
       "    </tr>\n",
       "    <tr>\n",
       "      <th>74367</th>\n",
       "      <td>18</td>\n",
       "      <td>0.414712</td>\n",
       "      <td>35</td>\n",
       "      <td>44</td>\n",
       "      <td>8</td>\n",
       "      <td>1911</td>\n",
       "      <td>8</td>\n",
       "    </tr>\n",
       "  </tbody>\n",
       "</table>\n",
       "</div>"
      ],
      "text/plain": [
       "        Year   Mileage  City  State  Make  Model class\n",
       "533821    17  1.237500   666     18    26   1493     4\n",
       "83367     17  0.812168  1018     49     8    785     9\n",
       "796038    13  2.203056  1008     11    49    594     0\n",
       "470149    17  0.514358    29     37    22   1615     7\n",
       "74367     18  0.414712    35     44     8   1911     8"
      ]
     },
     "execution_count": 29,
     "metadata": {},
     "output_type": "execute_result"
    }
   ],
   "source": [
    "vehicle_top_price.sample(5)"
   ]
  },
  {
   "cell_type": "code",
   "execution_count": 30,
   "metadata": {
    "scrolled": true
   },
   "outputs": [
    {
     "name": "stdout",
     "output_type": "stream",
     "text": [
      "<class 'pandas.core.frame.DataFrame'>\n",
      "Int64Index: 830059 entries, 0 to 852112\n",
      "Data columns (total 7 columns):\n",
      " #   Column   Non-Null Count   Dtype   \n",
      "---  ------   --------------   -----   \n",
      " 0   Year     830059 non-null  int32   \n",
      " 1   Mileage  830059 non-null  float64 \n",
      " 2   City     830059 non-null  int64   \n",
      " 3   State    830059 non-null  int64   \n",
      " 4   Make     830059 non-null  int64   \n",
      " 5   Model    830059 non-null  int64   \n",
      " 6   class    830059 non-null  category\n",
      "dtypes: category(1), float64(1), int32(1), int64(4)\n",
      "memory usage: 42.0 MB\n"
     ]
    }
   ],
   "source": [
    "vehicle_top_price.info()"
   ]
  },
  {
   "cell_type": "code",
   "execution_count": 31,
   "metadata": {},
   "outputs": [
    {
     "data": {
      "text/html": [
       "<div>\n",
       "<style scoped>\n",
       "    .dataframe tbody tr th:only-of-type {\n",
       "        vertical-align: middle;\n",
       "    }\n",
       "\n",
       "    .dataframe tbody tr th {\n",
       "        vertical-align: top;\n",
       "    }\n",
       "\n",
       "    .dataframe thead th {\n",
       "        text-align: right;\n",
       "    }\n",
       "</style>\n",
       "<table border=\"1\" class=\"dataframe\">\n",
       "  <thead>\n",
       "    <tr style=\"text-align: right;\">\n",
       "      <th></th>\n",
       "      <th>Year</th>\n",
       "      <th>Mileage</th>\n",
       "      <th>City</th>\n",
       "      <th>State</th>\n",
       "      <th>Make</th>\n",
       "      <th>Model</th>\n",
       "    </tr>\n",
       "  </thead>\n",
       "  <tbody>\n",
       "    <tr>\n",
       "      <th>Year</th>\n",
       "      <td>1.000000</td>\n",
       "      <td>-0.782312</td>\n",
       "      <td>0.009298</td>\n",
       "      <td>-0.022387</td>\n",
       "      <td>0.024514</td>\n",
       "      <td>-0.022300</td>\n",
       "    </tr>\n",
       "    <tr>\n",
       "      <th>Mileage</th>\n",
       "      <td>-0.782312</td>\n",
       "      <td>1.000000</td>\n",
       "      <td>-0.012386</td>\n",
       "      <td>0.025813</td>\n",
       "      <td>-0.035595</td>\n",
       "      <td>0.048124</td>\n",
       "    </tr>\n",
       "    <tr>\n",
       "      <th>City</th>\n",
       "      <td>0.009298</td>\n",
       "      <td>-0.012386</td>\n",
       "      <td>1.000000</td>\n",
       "      <td>-0.046721</td>\n",
       "      <td>0.007524</td>\n",
       "      <td>-0.002942</td>\n",
       "    </tr>\n",
       "    <tr>\n",
       "      <th>State</th>\n",
       "      <td>-0.022387</td>\n",
       "      <td>0.025813</td>\n",
       "      <td>-0.046721</td>\n",
       "      <td>1.000000</td>\n",
       "      <td>-0.004614</td>\n",
       "      <td>0.003605</td>\n",
       "    </tr>\n",
       "    <tr>\n",
       "      <th>Make</th>\n",
       "      <td>0.024514</td>\n",
       "      <td>-0.035595</td>\n",
       "      <td>0.007524</td>\n",
       "      <td>-0.004614</td>\n",
       "      <td>1.000000</td>\n",
       "      <td>0.034746</td>\n",
       "    </tr>\n",
       "    <tr>\n",
       "      <th>Model</th>\n",
       "      <td>-0.022300</td>\n",
       "      <td>0.048124</td>\n",
       "      <td>-0.002942</td>\n",
       "      <td>0.003605</td>\n",
       "      <td>0.034746</td>\n",
       "      <td>1.000000</td>\n",
       "    </tr>\n",
       "  </tbody>\n",
       "</table>\n",
       "</div>"
      ],
      "text/plain": [
       "             Year   Mileage      City     State      Make     Model\n",
       "Year     1.000000 -0.782312  0.009298 -0.022387  0.024514 -0.022300\n",
       "Mileage -0.782312  1.000000 -0.012386  0.025813 -0.035595  0.048124\n",
       "City     0.009298 -0.012386  1.000000 -0.046721  0.007524 -0.002942\n",
       "State   -0.022387  0.025813 -0.046721  1.000000 -0.004614  0.003605\n",
       "Make     0.024514 -0.035595  0.007524 -0.004614  1.000000  0.034746\n",
       "Model   -0.022300  0.048124 -0.002942  0.003605  0.034746  1.000000"
      ]
     },
     "execution_count": 31,
     "metadata": {},
     "output_type": "execute_result"
    }
   ],
   "source": [
    "vehicle_top_price.corr()"
   ]
  },
  {
   "cell_type": "code",
   "execution_count": 32,
   "metadata": {
    "scrolled": false
   },
   "outputs": [
    {
     "data": {
      "text/html": [
       "<div>\n",
       "<style scoped>\n",
       "    .dataframe tbody tr th:only-of-type {\n",
       "        vertical-align: middle;\n",
       "    }\n",
       "\n",
       "    .dataframe tbody tr th {\n",
       "        vertical-align: top;\n",
       "    }\n",
       "\n",
       "    .dataframe thead th {\n",
       "        text-align: right;\n",
       "    }\n",
       "</style>\n",
       "<table border=\"1\" class=\"dataframe\">\n",
       "  <thead>\n",
       "    <tr style=\"text-align: right;\">\n",
       "      <th></th>\n",
       "      <th>Year</th>\n",
       "      <th>Mileage</th>\n",
       "      <th>City</th>\n",
       "      <th>State</th>\n",
       "      <th>Make</th>\n",
       "      <th>Model</th>\n",
       "    </tr>\n",
       "  </thead>\n",
       "  <tbody>\n",
       "    <tr>\n",
       "      <th>count</th>\n",
       "      <td>830059.000000</td>\n",
       "      <td>830059.000000</td>\n",
       "      <td>830059.00000</td>\n",
       "      <td>830059.000000</td>\n",
       "      <td>830059.000000</td>\n",
       "      <td>830059.000000</td>\n",
       "    </tr>\n",
       "    <tr>\n",
       "      <th>mean</th>\n",
       "      <td>16.237171</td>\n",
       "      <td>1.000000</td>\n",
       "      <td>1236.28414</td>\n",
       "      <td>27.770590</td>\n",
       "      <td>23.709622</td>\n",
       "      <td>1171.423205</td>\n",
       "    </tr>\n",
       "    <tr>\n",
       "      <th>std</th>\n",
       "      <td>3.420433</td>\n",
       "      <td>0.767342</td>\n",
       "      <td>719.32115</td>\n",
       "      <td>17.230939</td>\n",
       "      <td>14.559218</td>\n",
       "      <td>711.668635</td>\n",
       "    </tr>\n",
       "    <tr>\n",
       "      <th>min</th>\n",
       "      <td>0.000000</td>\n",
       "      <td>0.000094</td>\n",
       "      <td>0.00000</td>\n",
       "      <td>0.000000</td>\n",
       "      <td>0.000000</td>\n",
       "      <td>0.000000</td>\n",
       "    </tr>\n",
       "    <tr>\n",
       "      <th>25%</th>\n",
       "      <td>15.000000</td>\n",
       "      <td>0.461631</td>\n",
       "      <td>596.00000</td>\n",
       "      <td>11.000000</td>\n",
       "      <td>11.000000</td>\n",
       "      <td>594.000000</td>\n",
       "    </tr>\n",
       "    <tr>\n",
       "      <th>50%</th>\n",
       "      <td>17.000000</td>\n",
       "      <td>0.769892</td>\n",
       "      <td>1219.00000</td>\n",
       "      <td>27.000000</td>\n",
       "      <td>20.000000</td>\n",
       "      <td>1043.000000</td>\n",
       "    </tr>\n",
       "    <tr>\n",
       "      <th>75%</th>\n",
       "      <td>19.000000</td>\n",
       "      <td>1.378275</td>\n",
       "      <td>1851.00000</td>\n",
       "      <td>44.000000</td>\n",
       "      <td>37.000000</td>\n",
       "      <td>1882.000000</td>\n",
       "    </tr>\n",
       "    <tr>\n",
       "      <th>max</th>\n",
       "      <td>21.000000</td>\n",
       "      <td>5.639271</td>\n",
       "      <td>2551.00000</td>\n",
       "      <td>58.000000</td>\n",
       "      <td>52.000000</td>\n",
       "      <td>2551.000000</td>\n",
       "    </tr>\n",
       "  </tbody>\n",
       "</table>\n",
       "</div>"
      ],
      "text/plain": [
       "                Year        Mileage          City          State  \\\n",
       "count  830059.000000  830059.000000  830059.00000  830059.000000   \n",
       "mean       16.237171       1.000000    1236.28414      27.770590   \n",
       "std         3.420433       0.767342     719.32115      17.230939   \n",
       "min         0.000000       0.000094       0.00000       0.000000   \n",
       "25%        15.000000       0.461631     596.00000      11.000000   \n",
       "50%        17.000000       0.769892    1219.00000      27.000000   \n",
       "75%        19.000000       1.378275    1851.00000      44.000000   \n",
       "max        21.000000       5.639271    2551.00000      58.000000   \n",
       "\n",
       "                Make          Model  \n",
       "count  830059.000000  830059.000000  \n",
       "mean       23.709622    1171.423205  \n",
       "std        14.559218     711.668635  \n",
       "min         0.000000       0.000000  \n",
       "25%        11.000000     594.000000  \n",
       "50%        20.000000    1043.000000  \n",
       "75%        37.000000    1882.000000  \n",
       "max        52.000000    2551.000000  "
      ]
     },
     "execution_count": 32,
     "metadata": {},
     "output_type": "execute_result"
    }
   ],
   "source": [
    "vehicle_top_price.describe()"
   ]
  },
  {
   "cell_type": "code",
   "execution_count": 33,
   "metadata": {
    "scrolled": false
   },
   "outputs": [
    {
     "data": {
      "text/plain": [
       "class\n",
       "0    83050\n",
       "1    86828\n",
       "2    79210\n",
       "3    83196\n",
       "4    84101\n",
       "5    81674\n",
       "6    83309\n",
       "7    82816\n",
       "8    83237\n",
       "9    82638\n",
       "dtype: int64"
      ]
     },
     "execution_count": 33,
     "metadata": {},
     "output_type": "execute_result"
    }
   ],
   "source": [
    "vehicle_top_price.groupby('class').size()"
   ]
  },
  {
   "cell_type": "markdown",
   "metadata": {},
   "source": [
    "### 3.4 EDA"
   ]
  },
  {
   "cell_type": "code",
   "execution_count": 34,
   "metadata": {},
   "outputs": [],
   "source": [
    "# profile_n = pp.ProfileReport(vehicle_top_price, title='Pandas Profiling Report')\n",
    "# profile_n.to_widgets()"
   ]
  },
  {
   "cell_type": "markdown",
   "metadata": {},
   "source": [
    "### 3.5 Classification  "
   ]
  },
  {
   "cell_type": "code",
   "execution_count": 35,
   "metadata": {},
   "outputs": [],
   "source": [
    "from sklearn.model_selection import KFold, train_test_split\n",
    "\n",
    "from sklearn.metrics import accuracy_score, balanced_accuracy_score\n",
    "\n",
    "# models\n",
    "from sklearn.linear_model import LinearRegression, SGDRegressor, RidgeCV\n",
    "from sklearn.svm import SVC\n",
    "\n",
    "from sklearn.neural_network import MLPClassifier\n",
    "\n",
    "from sklearn.ensemble import RandomForestClassifier, AdaBoostClassifier\n",
    "\n",
    "from sklearn.tree import DecisionTreeClassifier\n",
    "\n",
    "from sklearn.neighbors import KNeighborsClassifier\n",
    "\n",
    "from sklearn.gaussian_process import GaussianProcessClassifier\n",
    "from sklearn.gaussian_process.kernels import RBF\n",
    "\n",
    "from sklearn.naive_bayes import GaussianNB\n",
    "from sklearn.discriminant_analysis import QuadraticDiscriminantAnalysis"
   ]
  },
  {
   "cell_type": "code",
   "execution_count": 36,
   "metadata": {
    "scrolled": true
   },
   "outputs": [],
   "source": [
    "def accuracy_model(clf, train_x, test_x, train_y, test_y):    \n",
    "    clf.fit(train_x, train_y)\n",
    "\n",
    "    print(\"\\n### training performance\")\n",
    "    pred_train = clf.predict(train_x)\n",
    "    acc_train_r2_num = round(balanced_accuracy_score(train_y, pred_train) * 100, 2)\n",
    "    print('accuracy for training =', acc_train_r2_num)\n",
    "\n",
    "    print(\"### Test performance\")    \n",
    "    pred_y = clf.predict(test_x)\n",
    "    acc_train_r2_num = round(accuracy_score(test_y, pred_y) * 100, 2)\n",
    "    print('Accuracy score for testing =', acc_train_r2_num) \n",
    "    \n",
    "    return acc_train_r2_num"
   ]
  },
  {
   "cell_type": "code",
   "execution_count": 37,
   "metadata": {},
   "outputs": [],
   "source": [
    "#added some parameters\n",
    "# https://stackoverflow.com/a/45116022\n",
    "k_fold_5 = KFold(n_splits = 5, shuffle = True, random_state = 2)"
   ]
  },
  {
   "cell_type": "code",
   "execution_count": 38,
   "metadata": {
    "scrolled": true
   },
   "outputs": [
    {
     "data": {
      "text/html": [
       "<div>\n",
       "<style scoped>\n",
       "    .dataframe tbody tr th:only-of-type {\n",
       "        vertical-align: middle;\n",
       "    }\n",
       "\n",
       "    .dataframe tbody tr th {\n",
       "        vertical-align: top;\n",
       "    }\n",
       "\n",
       "    .dataframe thead th {\n",
       "        text-align: right;\n",
       "    }\n",
       "</style>\n",
       "<table border=\"1\" class=\"dataframe\">\n",
       "  <thead>\n",
       "    <tr style=\"text-align: right;\">\n",
       "      <th></th>\n",
       "      <th>Year</th>\n",
       "      <th>Mileage</th>\n",
       "      <th>City</th>\n",
       "      <th>State</th>\n",
       "      <th>Make</th>\n",
       "      <th>Model</th>\n",
       "    </tr>\n",
       "  </thead>\n",
       "  <tbody>\n",
       "    <tr>\n",
       "      <th>220134</th>\n",
       "      <td>17</td>\n",
       "      <td>1.216654</td>\n",
       "      <td>1596</td>\n",
       "      <td>18</td>\n",
       "      <td>11</td>\n",
       "      <td>1043</td>\n",
       "    </tr>\n",
       "    <tr>\n",
       "      <th>60196</th>\n",
       "      <td>18</td>\n",
       "      <td>0.664513</td>\n",
       "      <td>737</td>\n",
       "      <td>19</td>\n",
       "      <td>7</td>\n",
       "      <td>740</td>\n",
       "    </tr>\n",
       "    <tr>\n",
       "      <th>133026</th>\n",
       "      <td>17</td>\n",
       "      <td>1.933668</td>\n",
       "      <td>900</td>\n",
       "      <td>32</td>\n",
       "      <td>9</td>\n",
       "      <td>2180</td>\n",
       "    </tr>\n",
       "    <tr>\n",
       "      <th>15942</th>\n",
       "      <td>11</td>\n",
       "      <td>1.927352</td>\n",
       "      <td>1259</td>\n",
       "      <td>39</td>\n",
       "      <td>4</td>\n",
       "      <td>170</td>\n",
       "    </tr>\n",
       "    <tr>\n",
       "      <th>291751</th>\n",
       "      <td>19</td>\n",
       "      <td>0.441217</td>\n",
       "      <td>1579</td>\n",
       "      <td>44</td>\n",
       "      <td>14</td>\n",
       "      <td>711</td>\n",
       "    </tr>\n",
       "  </tbody>\n",
       "</table>\n",
       "</div>"
      ],
      "text/plain": [
       "        Year   Mileage  City  State  Make  Model\n",
       "220134    17  1.216654  1596     18    11   1043\n",
       "60196     18  0.664513   737     19     7    740\n",
       "133026    17  1.933668   900     32     9   2180\n",
       "15942     11  1.927352  1259     39     4    170\n",
       "291751    19  0.441217  1579     44    14    711"
      ]
     },
     "execution_count": 38,
     "metadata": {},
     "output_type": "execute_result"
    }
   ],
   "source": [
    "target_name = 'class'\n",
    "train_target = vehicle_top_price[target_name]\n",
    "\n",
    "vehicle_top_price = vehicle_top_price.drop([target_name], axis=1)\n",
    "vehicle_top_price.sample(5)"
   ]
  },
  {
   "cell_type": "code",
   "execution_count": 39,
   "metadata": {},
   "outputs": [],
   "source": [
    "vehicle_top_price = StandardScaler().fit_transform(vehicle_top_price)\n",
    "train0, test0, train_target0, test_target0 = train_test_split(vehicle_top_price, train_target, \n",
    "                                                              stratify=train_target[:], \n",
    "                                                              test_size=0.2, random_state=0)"
   ]
  },
  {
   "cell_type": "code",
   "execution_count": 40,
   "metadata": {},
   "outputs": [
    {
     "data": {
      "text/plain": [
       "(array([0, 1, 2, 3, 4, 5, 6, 7, 8, 9], dtype=int64),\n",
       " array([66440, 69462, 63368, 66557, 67281, 65339, 66647, 66253, 66590,\n",
       "        66110], dtype=int64))"
      ]
     },
     "execution_count": 40,
     "metadata": {},
     "output_type": "execute_result"
    }
   ],
   "source": [
    "uniqueValues, occurCount = np.unique(train_target0, return_counts=True)\n",
    "uniqueValues, occurCount"
   ]
  },
  {
   "cell_type": "markdown",
   "metadata": {},
   "source": [
    "Class: [ 0,  1,  2,  3,  4,  5,  6,  7,  8,  9, 10, 11] <br>\n",
    "\n",
    "    Dataset Dist:  [21160, 70933, 135175, 163852, 128996, 90037, 74626, 55841, 38631, 23406, 15236, 12166]\n",
    "    Training Dist: [16928, 56746, 108140, 131081, 103197, 72029, 59701, 44673, 30905, 18725, 12189,  9733]"
   ]
  },
  {
   "cell_type": "code",
   "execution_count": 41,
   "metadata": {},
   "outputs": [
    {
     "name": "stdout",
     "output_type": "stream",
     "text": [
      "# Number of Class: 10\n",
      "\n",
      "## Training for Nearest Neighbors starting ****\n",
      "\n",
      "### training performance\n",
      "accuracy for training = 63.03\n",
      "### Test performance\n",
      "Accuracy score for testing = 36.63\n",
      "Balanced accuracy score for testing = 36.53\n",
      "\n",
      "### training performance\n",
      "accuracy for training = 63.07\n",
      "### Test performance\n",
      "Accuracy score for testing = 36.53\n",
      "Balanced accuracy score for testing = 36.49\n",
      "\n",
      "### training performance\n",
      "accuracy for training = 63.01\n",
      "### Test performance\n",
      "Accuracy score for testing = 36.64\n",
      "Balanced accuracy score for testing = 36.57\n",
      "\n",
      "### training performance\n",
      "accuracy for training = 62.99\n",
      "### Test performance\n",
      "Accuracy score for testing = 36.49\n",
      "Balanced accuracy score for testing = 36.51\n",
      "\n",
      "### training performance\n",
      "accuracy for training = 62.95\n",
      "### Test performance\n",
      "Accuracy score for testing = 36.55\n",
      "Balanced accuracy score for testing = 36.51\n",
      "\n",
      "Avg Accuracy Score: 36.522\n",
      "\n",
      "## Training for Decision Tree starting ****\n",
      "\n",
      "### training performance\n",
      "accuracy for training = 24.0\n",
      "### Test performance\n",
      "Accuracy score for testing = 24.19\n",
      "Balanced accuracy score for testing = 24.03\n",
      "\n",
      "### training performance\n",
      "accuracy for training = 23.97\n",
      "### Test performance\n",
      "Accuracy score for testing = 23.91\n",
      "Balanced accuracy score for testing = 23.84\n",
      "\n",
      "### training performance\n",
      "accuracy for training = 24.02\n",
      "### Test performance\n",
      "Accuracy score for testing = 24.14\n",
      "Balanced accuracy score for testing = 24.03\n",
      "\n",
      "### training performance\n",
      "accuracy for training = 23.94\n",
      "### Test performance\n",
      "Accuracy score for testing = 23.95\n",
      "Balanced accuracy score for testing = 23.86\n",
      "\n",
      "### training performance\n",
      "accuracy for training = 24.01\n",
      "### Test performance\n",
      "Accuracy score for testing = 24.14\n",
      "Balanced accuracy score for testing = 24.02\n",
      "\n",
      "Avg Accuracy Score: 23.956\n",
      "\n",
      "## Training for Random Forest starting ****\n",
      "\n",
      "### training performance\n",
      "accuracy for training = 23.9\n",
      "### Test performance\n",
      "Accuracy score for testing = 23.97\n",
      "Balanced accuracy score for testing = 23.73\n",
      "\n",
      "### training performance\n",
      "accuracy for training = 24.61\n",
      "### Test performance\n",
      "Accuracy score for testing = 24.69\n",
      "Balanced accuracy score for testing = 24.59\n",
      "\n",
      "### training performance\n",
      "accuracy for training = 25.04\n",
      "### Test performance\n",
      "Accuracy score for testing = 25.35\n",
      "Balanced accuracy score for testing = 25.11\n",
      "\n",
      "### training performance\n",
      "accuracy for training = 25.03\n",
      "### Test performance\n",
      "Accuracy score for testing = 25.0\n",
      "Balanced accuracy score for testing = 24.99\n",
      "\n",
      "### training performance\n",
      "accuracy for training = 24.84\n",
      "### Test performance\n",
      "Accuracy score for testing = 24.9\n",
      "Balanced accuracy score for testing = 24.78\n",
      "\n",
      "Avg Accuracy Score: 24.64\n",
      "\n",
      "## Training for Neural Net starting ****\n",
      "\n",
      "### training performance\n",
      "accuracy for training = 24.03\n",
      "### Test performance\n",
      "Accuracy score for testing = 24.15\n",
      "Balanced accuracy score for testing = 23.9\n",
      "\n",
      "### training performance\n",
      "accuracy for training = 23.95\n",
      "### Test performance\n",
      "Accuracy score for testing = 24.03\n",
      "Balanced accuracy score for testing = 23.89\n",
      "\n",
      "### training performance\n",
      "accuracy for training = 23.84\n",
      "### Test performance\n",
      "Accuracy score for testing = 24.15\n",
      "Balanced accuracy score for testing = 23.99\n",
      "\n",
      "### training performance\n",
      "accuracy for training = 24.01\n",
      "### Test performance\n",
      "Accuracy score for testing = 24.05\n",
      "Balanced accuracy score for testing = 23.99\n",
      "\n",
      "### training performance\n",
      "accuracy for training = 23.92\n",
      "### Test performance\n",
      "Accuracy score for testing = 23.91\n",
      "Balanced accuracy score for testing = 23.83\n",
      "\n",
      "Avg Accuracy Score: 23.92\n",
      "\n",
      "## Training for AdaBoost starting ****\n",
      "\n",
      "### training performance\n",
      "accuracy for training = 26.73\n",
      "### Test performance\n",
      "Accuracy score for testing = 26.91\n",
      "Balanced accuracy score for testing = 26.75\n",
      "\n",
      "### training performance\n",
      "accuracy for training = 27.52\n",
      "### Test performance\n",
      "Accuracy score for testing = 27.56\n",
      "Balanced accuracy score for testing = 27.49\n",
      "\n",
      "### training performance\n",
      "accuracy for training = 26.99\n",
      "### Test performance\n",
      "Accuracy score for testing = 27.38\n",
      "Balanced accuracy score for testing = 27.22\n",
      "\n",
      "### training performance\n",
      "accuracy for training = 27.25\n",
      "### Test performance\n",
      "Accuracy score for testing = 27.37\n",
      "Balanced accuracy score for testing = 27.41\n",
      "\n",
      "### training performance\n",
      "accuracy for training = 26.92\n",
      "### Test performance\n",
      "Accuracy score for testing = 26.79\n",
      "Balanced accuracy score for testing = 26.73\n",
      "\n",
      "Avg Accuracy Score: 27.12\n",
      "\n",
      "## Training for Naive Bayes starting ****\n",
      "\n",
      "### training performance\n",
      "accuracy for training = 21.98\n",
      "### Test performance\n",
      "Accuracy score for testing = 21.99\n",
      "Balanced accuracy score for testing = 21.82\n",
      "\n",
      "### training performance\n",
      "accuracy for training = 21.94\n",
      "### Test performance\n",
      "Accuracy score for testing = 22.06\n",
      "Balanced accuracy score for testing = 21.94\n",
      "\n",
      "### training performance\n",
      "accuracy for training = 21.87\n",
      "### Test performance\n",
      "Accuracy score for testing = 22.07\n",
      "Balanced accuracy score for testing = 21.92\n",
      "\n",
      "### training performance\n",
      "accuracy for training = 21.92\n",
      "### Test performance\n",
      "Accuracy score for testing = 21.9\n",
      "Balanced accuracy score for testing = 21.9\n",
      "\n",
      "### training performance\n",
      "accuracy for training = 21.94\n",
      "### Test performance\n",
      "Accuracy score for testing = 22.12\n",
      "Balanced accuracy score for testing = 22.02\n",
      "\n",
      "Avg Accuracy Score: 21.92\n",
      "\n",
      "## Training for QDA starting ****\n",
      "\n",
      "### training performance\n",
      "accuracy for training = 22.24\n",
      "### Test performance\n",
      "Accuracy score for testing = 22.34\n",
      "Balanced accuracy score for testing = 22.16\n",
      "\n",
      "### training performance\n",
      "accuracy for training = 22.25\n",
      "### Test performance\n",
      "Accuracy score for testing = 22.22\n",
      "Balanced accuracy score for testing = 22.09\n",
      "\n",
      "### training performance\n",
      "accuracy for training = 22.17\n",
      "### Test performance\n",
      "Accuracy score for testing = 22.48\n",
      "Balanced accuracy score for testing = 22.34\n",
      "\n",
      "### training performance\n",
      "accuracy for training = 22.2\n",
      "### Test performance\n",
      "Accuracy score for testing = 22.24\n",
      "Balanced accuracy score for testing = 22.25\n",
      "\n",
      "### training performance\n",
      "accuracy for training = 22.28\n",
      "### Test performance\n",
      "Accuracy score for testing = 22.3\n",
      "Balanced accuracy score for testing = 22.2\n",
      "\n",
      "Avg Accuracy Score: 22.208\n"
     ]
    }
   ],
   "source": [
    "# https://scikit-learn.org/stable/auto_examples/classification/plot_classifier_comparison.html\n",
    "\n",
    "names = [\"Nearest Neighbors\", \n",
    "#          \"Linear SVM\", \"RBF SVM\", \n",
    "#          \"Gaussian Process\",\n",
    "         \"Decision Tree\", \"Random Forest\", \"Neural Net\", \"AdaBoost\",\n",
    "         \"Naive Bayes\", \"QDA\"]\n",
    "\n",
    "classifiers = [\n",
    "    KNeighborsClassifier(3),\n",
    "#     SVC(kernel=\"linear\", C=0.025),\n",
    "#     SVC(gamma=2, C=1),\n",
    "#     GaussianProcessClassifier(1.0 * RBF(1.0)),\n",
    "    DecisionTreeClassifier(max_depth=5),\n",
    "    RandomForestClassifier(max_depth=5, n_estimators=10, max_features=1),\n",
    "    MLPClassifier(alpha=1, max_iter=1000),\n",
    "    AdaBoostClassifier(),\n",
    "    GaussianNB(),\n",
    "    QuadraticDiscriminantAnalysis()]\n",
    "\n",
    "print(\"# Number of Class:\", num_class)\n",
    "for name, clf in zip(names, classifiers):\n",
    "    print(\"\\n## Training for {} starting ****\".format(name))\n",
    "    accuracy_scores = []\n",
    "    for train_index, test_index in k_fold_5.split(train0):\n",
    "        train_x = train0[train_index][:]\n",
    "        test_x  = train0[test_index][:]\n",
    "\n",
    "        train_y =  train_target0.iloc[train_index][:]\n",
    "        test_y  =  train_target0.iloc[test_index][:]\n",
    "\n",
    "        accuracy_scores.append(accuracy_model(clf, train_x, test_x, train_y, test_y))\n",
    "    print(\"\\nAvg Accuracy Score:\", round(np.mean(accuracy_scores), 3))"
   ]
  },
  {
   "cell_type": "markdown",
   "metadata": {},
   "source": [
    "### 3.5.1 yellowbrick"
   ]
  },
  {
   "cell_type": "code",
   "execution_count": 43,
   "metadata": {},
   "outputs": [],
   "source": [
    "from yellowbrick.classifier import ClassPredictionError"
   ]
  },
  {
   "cell_type": "code",
   "execution_count": 45,
   "metadata": {},
   "outputs": [
    {
     "data": {
      "image/png": "[encoded data removed]",
      "text/plain": [
       "<Figure size 576x396 with 1 Axes>"
      ]
     },
     "metadata": {},
     "output_type": "display_data"
    },
    {
     "data": {
      "text/plain": [
       "<AxesSubplot:title={'center':'Class Prediction Error for KNeighborsClassifier'}, xlabel='actual class', ylabel='number of predicted class'>"
      ]
     },
     "execution_count": 45,
     "metadata": {},
     "output_type": "execute_result"
    }
   ],
   "source": [
    "# Instantiate the classification model and visualizer\n",
    "visualizer = ClassPredictionError(KNeighborsClassifier(3), classes=np.arange(num_class))\n",
    "\n",
    "# Fit the training data to the visualizer\n",
    "visualizer.fit(train0, train_target0)\n",
    "\n",
    "# Evaluate the model on the test data\n",
    "visualizer.score(test0, test_target0)\n",
    "\n",
    "# Draw visualization\n",
    "visualizer.show()"
   ]
  }
 ],
 "metadata": {
  "kernelspec": {
   "display_name": "Python 3",
   "language": "python",
   "name": "python3"
  },
  "language_info": {
   "codemirror_mode": {
    "name": "ipython",
    "version": 3
   },
   "file_extension": ".py",
   "mimetype": "text/x-python",
   "name": "python",
   "nbconvert_exporter": "python",
   "pygments_lexer": "ipython3",
   "version": "3.7.3"
  }
 },
 "nbformat": 4,
 "nbformat_minor": 4
}
