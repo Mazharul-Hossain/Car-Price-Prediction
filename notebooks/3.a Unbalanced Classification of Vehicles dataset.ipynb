{
 "cells": [
  {
   "cell_type": "markdown",
   "metadata": {},
   "source": [
    "# Analysis of Vehicles dataset (Beginner's Analysis)\n",
    "\n",
    "1.2 Million Used Car Listings\n",
    "1.2 Million listings scraped from TrueCar.com - Price, Mileage, Make, Model\n",
    "\n",
    "link: https://www.kaggle.com/jpayne/852k-used-car-listings"
   ]
  },
  {
   "cell_type": "code",
   "execution_count": 1,
   "metadata": {},
   "outputs": [
    {
     "name": "stdout",
     "output_type": "stream",
     "text": [
      "E:\\ProgramData\\Anaconda3\\python.exe\n"
     ]
    }
   ],
   "source": [
    "import sys\n",
    "print(sys.executable)"
   ]
  },
  {
   "cell_type": "markdown",
   "metadata": {},
   "source": [
    "## 1. First we import necessary Libaries"
   ]
  },
  {
   "cell_type": "code",
   "execution_count": 2,
   "metadata": {},
   "outputs": [],
   "source": [
    "import pandas as pd\n",
    "import numpy as np \n",
    "import matplotlib.pyplot as plt "
   ]
  },
  {
   "cell_type": "markdown",
   "metadata": {},
   "source": [
    "## 2.Reading and Exploring the Data"
   ]
  },
  {
   "cell_type": "markdown",
   "metadata": {},
   "source": [
    "### Load Vehicles Data"
   ]
  },
  {
   "cell_type": "code",
   "execution_count": 3,
   "metadata": {},
   "outputs": [
    {
     "name": "stdout",
     "output_type": "stream",
     "text": [
      "<class 'pandas.core.frame.DataFrame'>\n",
      "RangeIndex: 852122 entries, 0 to 852121\n",
      "Data columns (total 8 columns):\n",
      " #   Column   Non-Null Count   Dtype \n",
      "---  ------   --------------   ----- \n",
      " 0   Price    852122 non-null  int64 \n",
      " 1   Year     852122 non-null  int64 \n",
      " 2   Mileage  852122 non-null  int64 \n",
      " 3   City     852122 non-null  object\n",
      " 4   State    852122 non-null  object\n",
      " 5   Vin      852122 non-null  object\n",
      " 6   Make     852122 non-null  object\n",
      " 7   Model    852122 non-null  object\n",
      "dtypes: int64(3), object(5)\n",
      "memory usage: 52.0+ MB\n"
     ]
    }
   ],
   "source": [
    "vehicles = pd.read_csv(\"datasets/true_car_listings.csv\")\n",
    "vehicles.info()"
   ]
  },
  {
   "cell_type": "code",
   "execution_count": 4,
   "metadata": {
    "scrolled": true
   },
   "outputs": [
    {
     "data": {
      "text/html": [
       "<div>\n",
       "<style scoped>\n",
       "    .dataframe tbody tr th:only-of-type {\n",
       "        vertical-align: middle;\n",
       "    }\n",
       "\n",
       "    .dataframe tbody tr th {\n",
       "        vertical-align: top;\n",
       "    }\n",
       "\n",
       "    .dataframe thead th {\n",
       "        text-align: right;\n",
       "    }\n",
       "</style>\n",
       "<table border=\"1\" class=\"dataframe\">\n",
       "  <thead>\n",
       "    <tr style=\"text-align: right;\">\n",
       "      <th></th>\n",
       "      <th>Price</th>\n",
       "      <th>Year</th>\n",
       "      <th>Mileage</th>\n",
       "      <th>City</th>\n",
       "      <th>State</th>\n",
       "      <th>Vin</th>\n",
       "      <th>Make</th>\n",
       "      <th>Model</th>\n",
       "    </tr>\n",
       "  </thead>\n",
       "  <tbody>\n",
       "    <tr>\n",
       "      <th>422921</th>\n",
       "      <td>13995</td>\n",
       "      <td>2011</td>\n",
       "      <td>31657</td>\n",
       "      <td>Naugatuck</td>\n",
       "      <td>CT</td>\n",
       "      <td>5J6RE4H49BL084709</td>\n",
       "      <td>Honda</td>\n",
       "      <td>CR-V4WD</td>\n",
       "    </tr>\n",
       "    <tr>\n",
       "      <th>406225</th>\n",
       "      <td>13999</td>\n",
       "      <td>2011</td>\n",
       "      <td>79923</td>\n",
       "      <td>Kansas City</td>\n",
       "      <td>MO</td>\n",
       "      <td>5J6RE4H47BL002363</td>\n",
       "      <td>Honda</td>\n",
       "      <td>CR-V4WD</td>\n",
       "    </tr>\n",
       "    <tr>\n",
       "      <th>117174</th>\n",
       "      <td>16750</td>\n",
       "      <td>2016</td>\n",
       "      <td>5116</td>\n",
       "      <td>Paris</td>\n",
       "      <td>KY</td>\n",
       "      <td>1G1PE5SB3G7218102</td>\n",
       "      <td>Chevrolet</td>\n",
       "      <td>Cruze</td>\n",
       "    </tr>\n",
       "    <tr>\n",
       "      <th>140125</th>\n",
       "      <td>28999</td>\n",
       "      <td>2014</td>\n",
       "      <td>17016</td>\n",
       "      <td>Milwaukee</td>\n",
       "      <td>WI</td>\n",
       "      <td>1GCVKREC5EZ331389</td>\n",
       "      <td>Chevrolet</td>\n",
       "      <td>Silverado</td>\n",
       "    </tr>\n",
       "    <tr>\n",
       "      <th>462798</th>\n",
       "      <td>25936</td>\n",
       "      <td>2015</td>\n",
       "      <td>37645</td>\n",
       "      <td>Burlington</td>\n",
       "      <td>NJ</td>\n",
       "      <td>KM8SMDHF0FU113439</td>\n",
       "      <td>Hyundai</td>\n",
       "      <td>Santa</td>\n",
       "    </tr>\n",
       "  </tbody>\n",
       "</table>\n",
       "</div>"
      ],
      "text/plain": [
       "        Price  Year  Mileage         City State                Vin       Make  \\\n",
       "422921  13995  2011    31657    Naugatuck    CT  5J6RE4H49BL084709      Honda   \n",
       "406225  13999  2011    79923  Kansas City    MO  5J6RE4H47BL002363      Honda   \n",
       "117174  16750  2016     5116        Paris    KY  1G1PE5SB3G7218102  Chevrolet   \n",
       "140125  28999  2014    17016    Milwaukee    WI  1GCVKREC5EZ331389  Chevrolet   \n",
       "462798  25936  2015    37645   Burlington    NJ  KM8SMDHF0FU113439    Hyundai   \n",
       "\n",
       "            Model  \n",
       "422921    CR-V4WD  \n",
       "406225    CR-V4WD  \n",
       "117174      Cruze  \n",
       "140125  Silverado  \n",
       "462798      Santa  "
      ]
     },
     "execution_count": 4,
     "metadata": {},
     "output_type": "execute_result"
    }
   ],
   "source": [
    "vehicles.sample(5)"
   ]
  },
  {
   "cell_type": "code",
   "execution_count": 5,
   "metadata": {},
   "outputs": [
    {
     "data": {
      "text/html": [
       "<div>\n",
       "<style scoped>\n",
       "    .dataframe tbody tr th:only-of-type {\n",
       "        vertical-align: middle;\n",
       "    }\n",
       "\n",
       "    .dataframe tbody tr th {\n",
       "        vertical-align: top;\n",
       "    }\n",
       "\n",
       "    .dataframe thead th {\n",
       "        text-align: right;\n",
       "    }\n",
       "</style>\n",
       "<table border=\"1\" class=\"dataframe\">\n",
       "  <thead>\n",
       "    <tr style=\"text-align: right;\">\n",
       "      <th></th>\n",
       "      <th>Price</th>\n",
       "      <th>Year</th>\n",
       "      <th>Mileage</th>\n",
       "    </tr>\n",
       "  </thead>\n",
       "  <tbody>\n",
       "    <tr>\n",
       "      <th>count</th>\n",
       "      <td>852122.000000</td>\n",
       "      <td>852122.000000</td>\n",
       "      <td>8.521220e+05</td>\n",
       "    </tr>\n",
       "    <tr>\n",
       "      <th>mean</th>\n",
       "      <td>21464.100210</td>\n",
       "      <td>2013.289145</td>\n",
       "      <td>5.250779e+04</td>\n",
       "    </tr>\n",
       "    <tr>\n",
       "      <th>std</th>\n",
       "      <td>13596.202241</td>\n",
       "      <td>3.414987</td>\n",
       "      <td>4.198896e+04</td>\n",
       "    </tr>\n",
       "    <tr>\n",
       "      <th>min</th>\n",
       "      <td>1500.000000</td>\n",
       "      <td>1997.000000</td>\n",
       "      <td>5.000000e+00</td>\n",
       "    </tr>\n",
       "    <tr>\n",
       "      <th>25%</th>\n",
       "      <td>13000.000000</td>\n",
       "      <td>2012.000000</td>\n",
       "      <td>2.383600e+04</td>\n",
       "    </tr>\n",
       "    <tr>\n",
       "      <th>50%</th>\n",
       "      <td>18500.000000</td>\n",
       "      <td>2014.000000</td>\n",
       "      <td>4.025600e+04</td>\n",
       "    </tr>\n",
       "    <tr>\n",
       "      <th>75%</th>\n",
       "      <td>26995.000000</td>\n",
       "      <td>2016.000000</td>\n",
       "      <td>7.218600e+04</td>\n",
       "    </tr>\n",
       "    <tr>\n",
       "      <th>max</th>\n",
       "      <td>499500.000000</td>\n",
       "      <td>2018.000000</td>\n",
       "      <td>2.856196e+06</td>\n",
       "    </tr>\n",
       "  </tbody>\n",
       "</table>\n",
       "</div>"
      ],
      "text/plain": [
       "               Price           Year       Mileage\n",
       "count  852122.000000  852122.000000  8.521220e+05\n",
       "mean    21464.100210    2013.289145  5.250779e+04\n",
       "std     13596.202241       3.414987  4.198896e+04\n",
       "min      1500.000000    1997.000000  5.000000e+00\n",
       "25%     13000.000000    2012.000000  2.383600e+04\n",
       "50%     18500.000000    2014.000000  4.025600e+04\n",
       "75%     26995.000000    2016.000000  7.218600e+04\n",
       "max    499500.000000    2018.000000  2.856196e+06"
      ]
     },
     "execution_count": 5,
     "metadata": {},
     "output_type": "execute_result"
    }
   ],
   "source": [
    "vehicles.describe()"
   ]
  },
  {
   "cell_type": "code",
   "execution_count": 6,
   "metadata": {
    "scrolled": true
   },
   "outputs": [
    {
     "data": {
      "text/plain": [
       "(852122, 8)"
      ]
     },
     "execution_count": 6,
     "metadata": {},
     "output_type": "execute_result"
    }
   ],
   "source": [
    "vehicles.shape"
   ]
  },
  {
   "cell_type": "markdown",
   "metadata": {},
   "source": [
    "## 3 Dataset for car from 1970 and price is not greater than 50k"
   ]
  },
  {
   "cell_type": "markdown",
   "metadata": {},
   "source": [
    "### 3.1 Data Analysis"
   ]
  },
  {
   "cell_type": "code",
   "execution_count": 7,
   "metadata": {},
   "outputs": [
    {
     "data": {
      "text/plain": [
       "(830059, 7)"
      ]
     },
     "execution_count": 7,
     "metadata": {},
     "output_type": "execute_result"
    }
   ],
   "source": [
    "vehicle_top_price = vehicles.loc[(vehicles.Year>=1970) & (vehicles.Price>=1000) & (vehicles.Price<=50000) \n",
    "                                 & (vehicles.Mileage<=300000)].loc[:, ['Price', 'Year', \n",
    "                                                                                'Mileage', 'City', 'State', 'Make', 'Model']]\n",
    "vehicle_top_price.shape"
   ]
  },
  {
   "cell_type": "code",
   "execution_count": 8,
   "metadata": {
    "scrolled": false
   },
   "outputs": [
    {
     "data": {
      "text/html": [
       "<div>\n",
       "<style scoped>\n",
       "    .dataframe tbody tr th:only-of-type {\n",
       "        vertical-align: middle;\n",
       "    }\n",
       "\n",
       "    .dataframe tbody tr th {\n",
       "        vertical-align: top;\n",
       "    }\n",
       "\n",
       "    .dataframe thead th {\n",
       "        text-align: right;\n",
       "    }\n",
       "</style>\n",
       "<table border=\"1\" class=\"dataframe\">\n",
       "  <thead>\n",
       "    <tr style=\"text-align: right;\">\n",
       "      <th></th>\n",
       "      <th>Price</th>\n",
       "      <th>Year</th>\n",
       "      <th>Mileage</th>\n",
       "      <th>City</th>\n",
       "      <th>State</th>\n",
       "      <th>Make</th>\n",
       "      <th>Model</th>\n",
       "    </tr>\n",
       "  </thead>\n",
       "  <tbody>\n",
       "    <tr>\n",
       "      <th>812419</th>\n",
       "      <td>32491</td>\n",
       "      <td>2013</td>\n",
       "      <td>37502</td>\n",
       "      <td>Englewood</td>\n",
       "      <td>CO</td>\n",
       "      <td>Toyota</td>\n",
       "      <td>Tundra</td>\n",
       "    </tr>\n",
       "    <tr>\n",
       "      <th>404360</th>\n",
       "      <td>5998</td>\n",
       "      <td>2007</td>\n",
       "      <td>137615</td>\n",
       "      <td>El Monte</td>\n",
       "      <td>CA</td>\n",
       "      <td>Honda</td>\n",
       "      <td>Accord</td>\n",
       "    </tr>\n",
       "    <tr>\n",
       "      <th>141213</th>\n",
       "      <td>3995</td>\n",
       "      <td>2003</td>\n",
       "      <td>176545</td>\n",
       "      <td>Frankfort</td>\n",
       "      <td>KY</td>\n",
       "      <td>Chevrolet</td>\n",
       "      <td>TrailBlazer4dr</td>\n",
       "    </tr>\n",
       "    <tr>\n",
       "      <th>693022</th>\n",
       "      <td>21131</td>\n",
       "      <td>2017</td>\n",
       "      <td>30648</td>\n",
       "      <td>Denville</td>\n",
       "      <td>NJ</td>\n",
       "      <td>Nissan</td>\n",
       "      <td>RogueSV</td>\n",
       "    </tr>\n",
       "    <tr>\n",
       "      <th>7240</th>\n",
       "      <td>22790</td>\n",
       "      <td>2012</td>\n",
       "      <td>51728</td>\n",
       "      <td>Las Vegas</td>\n",
       "      <td>NV</td>\n",
       "      <td>Acura</td>\n",
       "      <td>MDXAWD</td>\n",
       "    </tr>\n",
       "  </tbody>\n",
       "</table>\n",
       "</div>"
      ],
      "text/plain": [
       "        Price  Year  Mileage       City State       Make           Model\n",
       "812419  32491  2013    37502  Englewood    CO     Toyota          Tundra\n",
       "404360   5998  2007   137615   El Monte    CA      Honda          Accord\n",
       "141213   3995  2003   176545  Frankfort    KY  Chevrolet  TrailBlazer4dr\n",
       "693022  21131  2017    30648   Denville    NJ     Nissan         RogueSV\n",
       "7240    22790  2012    51728  Las Vegas    NV      Acura          MDXAWD"
      ]
     },
     "execution_count": 8,
     "metadata": {},
     "output_type": "execute_result"
    }
   ],
   "source": [
    "vehicle_top_price.sample(5)"
   ]
  },
  {
   "cell_type": "code",
   "execution_count": 9,
   "metadata": {
    "scrolled": true
   },
   "outputs": [
    {
     "data": {
      "text/html": [
       "<div>\n",
       "<style scoped>\n",
       "    .dataframe tbody tr th:only-of-type {\n",
       "        vertical-align: middle;\n",
       "    }\n",
       "\n",
       "    .dataframe tbody tr th {\n",
       "        vertical-align: top;\n",
       "    }\n",
       "\n",
       "    .dataframe thead th {\n",
       "        text-align: right;\n",
       "    }\n",
       "</style>\n",
       "<table border=\"1\" class=\"dataframe\">\n",
       "  <thead>\n",
       "    <tr style=\"text-align: right;\">\n",
       "      <th></th>\n",
       "      <th>Price</th>\n",
       "      <th>Year</th>\n",
       "      <th>Mileage</th>\n",
       "    </tr>\n",
       "  </thead>\n",
       "  <tbody>\n",
       "    <tr>\n",
       "      <th>count</th>\n",
       "      <td>830059.000000</td>\n",
       "      <td>830059.000000</td>\n",
       "      <td>830059.000000</td>\n",
       "    </tr>\n",
       "    <tr>\n",
       "      <th>mean</th>\n",
       "      <td>20210.714328</td>\n",
       "      <td>2013.237171</td>\n",
       "      <td>53198.364920</td>\n",
       "    </tr>\n",
       "    <tr>\n",
       "      <th>std</th>\n",
       "      <td>9732.591999</td>\n",
       "      <td>3.420433</td>\n",
       "      <td>40821.316722</td>\n",
       "    </tr>\n",
       "    <tr>\n",
       "      <th>min</th>\n",
       "      <td>1500.000000</td>\n",
       "      <td>1997.000000</td>\n",
       "      <td>5.000000</td>\n",
       "    </tr>\n",
       "    <tr>\n",
       "      <th>25%</th>\n",
       "      <td>12995.000000</td>\n",
       "      <td>2012.000000</td>\n",
       "      <td>24558.000000</td>\n",
       "    </tr>\n",
       "    <tr>\n",
       "      <th>50%</th>\n",
       "      <td>18000.000000</td>\n",
       "      <td>2014.000000</td>\n",
       "      <td>40957.000000</td>\n",
       "    </tr>\n",
       "    <tr>\n",
       "      <th>75%</th>\n",
       "      <td>26020.500000</td>\n",
       "      <td>2016.000000</td>\n",
       "      <td>73322.000000</td>\n",
       "    </tr>\n",
       "    <tr>\n",
       "      <th>max</th>\n",
       "      <td>50000.000000</td>\n",
       "      <td>2018.000000</td>\n",
       "      <td>300000.000000</td>\n",
       "    </tr>\n",
       "  </tbody>\n",
       "</table>\n",
       "</div>"
      ],
      "text/plain": [
       "               Price           Year        Mileage\n",
       "count  830059.000000  830059.000000  830059.000000\n",
       "mean    20210.714328    2013.237171   53198.364920\n",
       "std      9732.591999       3.420433   40821.316722\n",
       "min      1500.000000    1997.000000       5.000000\n",
       "25%     12995.000000    2012.000000   24558.000000\n",
       "50%     18000.000000    2014.000000   40957.000000\n",
       "75%     26020.500000    2016.000000   73322.000000\n",
       "max     50000.000000    2018.000000  300000.000000"
      ]
     },
     "execution_count": 9,
     "metadata": {},
     "output_type": "execute_result"
    }
   ],
   "source": [
    "vehicle_top_price.describe()"
   ]
  },
  {
   "cell_type": "code",
   "execution_count": 10,
   "metadata": {},
   "outputs": [
    {
     "data": {
      "text/plain": [
       "Price       int64\n",
       "Year        int64\n",
       "Mileage     int64\n",
       "City       object\n",
       "State      object\n",
       "Make       object\n",
       "Model      object\n",
       "dtype: object"
      ]
     },
     "execution_count": 10,
     "metadata": {},
     "output_type": "execute_result"
    }
   ],
   "source": [
    "vehicle_top_price.dtypes"
   ]
  },
  {
   "cell_type": "markdown",
   "metadata": {},
   "source": [
    "### 3.2 Cleaning of data"
   ]
  },
  {
   "cell_type": "code",
   "execution_count": 11,
   "metadata": {
    "scrolled": false
   },
   "outputs": [
    {
     "data": {
      "text/plain": [
       "Price      False\n",
       "Year       False\n",
       "Mileage    False\n",
       "City       False\n",
       "State      False\n",
       "Make       False\n",
       "Model      False\n",
       "dtype: bool"
      ]
     },
     "execution_count": 11,
     "metadata": {},
     "output_type": "execute_result"
    }
   ],
   "source": [
    "vehicle_top_price.isnull().any()"
   ]
  },
  {
   "cell_type": "code",
   "execution_count": 12,
   "metadata": {
    "scrolled": true
   },
   "outputs": [
    {
     "data": {
      "text/plain": [
       "Price      0\n",
       "Year       0\n",
       "Mileage    0\n",
       "City       0\n",
       "State      0\n",
       "Make       0\n",
       "Model      0\n",
       "dtype: int64"
      ]
     },
     "execution_count": 12,
     "metadata": {},
     "output_type": "execute_result"
    }
   ],
   "source": [
    "vehicle_top_price.isnull().sum()"
   ]
  },
  {
   "cell_type": "code",
   "execution_count": 13,
   "metadata": {},
   "outputs": [],
   "source": [
    "# lets drop null rows\n",
    "vehicle_top_price = vehicle_top_price.dropna()"
   ]
  },
  {
   "cell_type": "code",
   "execution_count": 14,
   "metadata": {
    "scrolled": true
   },
   "outputs": [
    {
     "data": {
      "text/plain": [
       "(830059, 7)"
      ]
     },
     "execution_count": 14,
     "metadata": {},
     "output_type": "execute_result"
    }
   ],
   "source": [
    "vehicle_top_price.shape"
   ]
  },
  {
   "cell_type": "markdown",
   "metadata": {},
   "source": [
    "### 3.3 Understand the relation between Price and the number of Class"
   ]
  },
  {
   "cell_type": "code",
   "execution_count": 15,
   "metadata": {},
   "outputs": [
    {
     "data": {
      "text/plain": [
       "<AxesSubplot:ylabel='Frequency'>"
      ]
     },
     "execution_count": 15,
     "metadata": {},
     "output_type": "execute_result"
    },
    {
     "data": {
      "image/png": "[encoded data removed]",
      "text/plain": [
       "<Figure size 1080x360 with 1 Axes>"
      ]
     },
     "metadata": {
      "needs_background": "light"
     },
     "output_type": "display_data"
    }
   ],
   "source": [
    "# vehicle_top_price['Price'].plot.hist(figsize=(15,5), bins=7, alpha=0.7, rwidth=0.5, grid=True)\n",
    "num_class = 10\n",
    "vehicle_top_price['Price'].plot.hist(figsize=(15,5), bins=num_class, alpha=0.7, rwidth=0.5, grid=True)\n",
    "# vehicle_top_price['Price'].plot.hist(figsize=(15,5), bins=12, alpha=0.7, rwidth=0.5, grid=True)"
   ]
  },
  {
   "cell_type": "markdown",
   "metadata": {},
   "source": [
    "### 3.4 EDA"
   ]
  },
  {
   "cell_type": "code",
   "execution_count": 16,
   "metadata": {},
   "outputs": [],
   "source": [
    "import pandas_profiling as pp"
   ]
  },
  {
   "cell_type": "code",
   "execution_count": 17,
   "metadata": {},
   "outputs": [],
   "source": [
    "# profile = pp.ProfileReport(vehicle_top_price, title='Pandas Profiling Report', explorative=True)\n",
    "# profile.to_widgets()\n",
    "# # profile.to_notebook_iframe()"
   ]
  },
  {
   "cell_type": "markdown",
   "metadata": {},
   "source": [
    "### 3.3 Normalize the Data\n",
    "Used Cars Price Prediction by 15 models\n",
    "https://www.kaggle.com/vbmokin/used-cars-price-prediction-by-15-models"
   ]
  },
  {
   "cell_type": "code",
   "execution_count": 18,
   "metadata": {},
   "outputs": [],
   "source": [
    "from sklearn.preprocessing import LabelEncoder, StandardScaler"
   ]
  },
  {
   "cell_type": "code",
   "execution_count": 19,
   "metadata": {},
   "outputs": [],
   "source": [
    "# https://stackoverflow.com/a/53028100 \n",
    "vehicle_top_price['class'] = pd.cut(vehicle_top_price.Price, bins=num_class, labels=np.arange(num_class), right=False)\n",
    "vehicle_top_price = vehicle_top_price.drop(['Price'], axis=1)"
   ]
  },
  {
   "cell_type": "code",
   "execution_count": 20,
   "metadata": {},
   "outputs": [],
   "source": [
    "car_year_min = vehicle_top_price['Year'].min()\n",
    "vehicle_top_price['Year'] = (vehicle_top_price['Year'] - car_year_min).astype(int)"
   ]
  },
  {
   "cell_type": "code",
   "execution_count": 21,
   "metadata": {},
   "outputs": [],
   "source": [
    "car_mileage_mean = vehicle_top_price['Mileage'].mean()\n",
    "vehicle_top_price['Mileage'] = (vehicle_top_price['Mileage'] / car_mileage_mean).astype('float64')"
   ]
  },
  {
   "cell_type": "code",
   "execution_count": null,
   "metadata": {},
   "outputs": [],
   "source": []
  },
  {
   "cell_type": "code",
   "execution_count": 22,
   "metadata": {},
   "outputs": [],
   "source": [
    "# # perform one hot encoding on multiple categorical columns: https://datascience.stackexchange.com/a/71805\n",
    "# # https://stackoverflow.com/a/44601764\n",
    "# vehicle_top_price = pd.get_dummies(vehicle_top_price, columns=['City', 'State', 'Make', 'Model'], drop_first=True)\n",
    "# vehicle_top_price.columns"
   ]
  },
  {
   "cell_type": "code",
   "execution_count": 23,
   "metadata": {},
   "outputs": [],
   "source": [
    "# https://scikit-learn.org/stable/modules/generated/sklearn.preprocessing.LabelEncoder.html\n",
    "for col in ['City', 'State', 'Make', 'Model']:\n",
    "    le = LabelEncoder()\n",
    "    le.fit(list(vehicle_top_price[col].astype(str).values))\n",
    "    vehicle_top_price[col] = le.transform(list(vehicle_top_price[col].astype(str).values))\n",
    "    le.get_params()"
   ]
  },
  {
   "cell_type": "code",
   "execution_count": 24,
   "metadata": {
    "scrolled": true
   },
   "outputs": [
    {
     "data": {
      "text/html": [
       "<div>\n",
       "<style scoped>\n",
       "    .dataframe tbody tr th:only-of-type {\n",
       "        vertical-align: middle;\n",
       "    }\n",
       "\n",
       "    .dataframe tbody tr th {\n",
       "        vertical-align: top;\n",
       "    }\n",
       "\n",
       "    .dataframe thead th {\n",
       "        text-align: right;\n",
       "    }\n",
       "</style>\n",
       "<table border=\"1\" class=\"dataframe\">\n",
       "  <thead>\n",
       "    <tr style=\"text-align: right;\">\n",
       "      <th></th>\n",
       "      <th>Year</th>\n",
       "      <th>Mileage</th>\n",
       "      <th>City</th>\n",
       "      <th>State</th>\n",
       "      <th>Make</th>\n",
       "      <th>Model</th>\n",
       "      <th>class</th>\n",
       "    </tr>\n",
       "  </thead>\n",
       "  <tbody>\n",
       "    <tr>\n",
       "      <th>716654</th>\n",
       "      <td>20</td>\n",
       "      <td>0.210683</td>\n",
       "      <td>1661</td>\n",
       "      <td>50</td>\n",
       "      <td>42</td>\n",
       "      <td>44</td>\n",
       "      <td>6</td>\n",
       "    </tr>\n",
       "    <tr>\n",
       "      <th>472702</th>\n",
       "      <td>17</td>\n",
       "      <td>0.536595</td>\n",
       "      <td>883</td>\n",
       "      <td>49</td>\n",
       "      <td>22</td>\n",
       "      <td>1656</td>\n",
       "      <td>6</td>\n",
       "    </tr>\n",
       "    <tr>\n",
       "      <th>122212</th>\n",
       "      <td>20</td>\n",
       "      <td>0.658686</td>\n",
       "      <td>249</td>\n",
       "      <td>28</td>\n",
       "      <td>9</td>\n",
       "      <td>1108</td>\n",
       "      <td>3</td>\n",
       "    </tr>\n",
       "    <tr>\n",
       "      <th>474858</th>\n",
       "      <td>19</td>\n",
       "      <td>0.149497</td>\n",
       "      <td>2002</td>\n",
       "      <td>5</td>\n",
       "      <td>22</td>\n",
       "      <td>1657</td>\n",
       "      <td>7</td>\n",
       "    </tr>\n",
       "    <tr>\n",
       "      <th>545350</th>\n",
       "      <td>17</td>\n",
       "      <td>0.857451</td>\n",
       "      <td>1770</td>\n",
       "      <td>21</td>\n",
       "      <td>26</td>\n",
       "      <td>2014</td>\n",
       "      <td>4</td>\n",
       "    </tr>\n",
       "  </tbody>\n",
       "</table>\n",
       "</div>"
      ],
      "text/plain": [
       "        Year   Mileage  City  State  Make  Model class\n",
       "716654    20  0.210683  1661     50    42     44     6\n",
       "472702    17  0.536595   883     49    22   1656     6\n",
       "122212    20  0.658686   249     28     9   1108     3\n",
       "474858    19  0.149497  2002      5    22   1657     7\n",
       "545350    17  0.857451  1770     21    26   2014     4"
      ]
     },
     "execution_count": 24,
     "metadata": {},
     "output_type": "execute_result"
    }
   ],
   "source": [
    "vehicle_top_price.sample(5)"
   ]
  },
  {
   "cell_type": "code",
   "execution_count": 25,
   "metadata": {
    "scrolled": true
   },
   "outputs": [
    {
     "name": "stdout",
     "output_type": "stream",
     "text": [
      "<class 'pandas.core.frame.DataFrame'>\n",
      "Int64Index: 830059 entries, 0 to 852112\n",
      "Data columns (total 7 columns):\n",
      " #   Column   Non-Null Count   Dtype   \n",
      "---  ------   --------------   -----   \n",
      " 0   Year     830059 non-null  int32   \n",
      " 1   Mileage  830059 non-null  float64 \n",
      " 2   City     830059 non-null  int64   \n",
      " 3   State    830059 non-null  int64   \n",
      " 4   Make     830059 non-null  int64   \n",
      " 5   Model    830059 non-null  int64   \n",
      " 6   class    830059 non-null  category\n",
      "dtypes: category(1), float64(1), int32(1), int64(4)\n",
      "memory usage: 42.0 MB\n"
     ]
    }
   ],
   "source": [
    "vehicle_top_price.info()"
   ]
  },
  {
   "cell_type": "code",
   "execution_count": 26,
   "metadata": {},
   "outputs": [
    {
     "data": {
      "text/html": [
       "<div>\n",
       "<style scoped>\n",
       "    .dataframe tbody tr th:only-of-type {\n",
       "        vertical-align: middle;\n",
       "    }\n",
       "\n",
       "    .dataframe tbody tr th {\n",
       "        vertical-align: top;\n",
       "    }\n",
       "\n",
       "    .dataframe thead th {\n",
       "        text-align: right;\n",
       "    }\n",
       "</style>\n",
       "<table border=\"1\" class=\"dataframe\">\n",
       "  <thead>\n",
       "    <tr style=\"text-align: right;\">\n",
       "      <th></th>\n",
       "      <th>Year</th>\n",
       "      <th>Mileage</th>\n",
       "      <th>City</th>\n",
       "      <th>State</th>\n",
       "      <th>Make</th>\n",
       "      <th>Model</th>\n",
       "    </tr>\n",
       "  </thead>\n",
       "  <tbody>\n",
       "    <tr>\n",
       "      <th>Year</th>\n",
       "      <td>1.000000</td>\n",
       "      <td>-0.782312</td>\n",
       "      <td>0.009298</td>\n",
       "      <td>-0.022387</td>\n",
       "      <td>0.024514</td>\n",
       "      <td>-0.022300</td>\n",
       "    </tr>\n",
       "    <tr>\n",
       "      <th>Mileage</th>\n",
       "      <td>-0.782312</td>\n",
       "      <td>1.000000</td>\n",
       "      <td>-0.012386</td>\n",
       "      <td>0.025813</td>\n",
       "      <td>-0.035595</td>\n",
       "      <td>0.048124</td>\n",
       "    </tr>\n",
       "    <tr>\n",
       "      <th>City</th>\n",
       "      <td>0.009298</td>\n",
       "      <td>-0.012386</td>\n",
       "      <td>1.000000</td>\n",
       "      <td>-0.046721</td>\n",
       "      <td>0.007524</td>\n",
       "      <td>-0.002942</td>\n",
       "    </tr>\n",
       "    <tr>\n",
       "      <th>State</th>\n",
       "      <td>-0.022387</td>\n",
       "      <td>0.025813</td>\n",
       "      <td>-0.046721</td>\n",
       "      <td>1.000000</td>\n",
       "      <td>-0.004614</td>\n",
       "      <td>0.003605</td>\n",
       "    </tr>\n",
       "    <tr>\n",
       "      <th>Make</th>\n",
       "      <td>0.024514</td>\n",
       "      <td>-0.035595</td>\n",
       "      <td>0.007524</td>\n",
       "      <td>-0.004614</td>\n",
       "      <td>1.000000</td>\n",
       "      <td>0.034746</td>\n",
       "    </tr>\n",
       "    <tr>\n",
       "      <th>Model</th>\n",
       "      <td>-0.022300</td>\n",
       "      <td>0.048124</td>\n",
       "      <td>-0.002942</td>\n",
       "      <td>0.003605</td>\n",
       "      <td>0.034746</td>\n",
       "      <td>1.000000</td>\n",
       "    </tr>\n",
       "  </tbody>\n",
       "</table>\n",
       "</div>"
      ],
      "text/plain": [
       "             Year   Mileage      City     State      Make     Model\n",
       "Year     1.000000 -0.782312  0.009298 -0.022387  0.024514 -0.022300\n",
       "Mileage -0.782312  1.000000 -0.012386  0.025813 -0.035595  0.048124\n",
       "City     0.009298 -0.012386  1.000000 -0.046721  0.007524 -0.002942\n",
       "State   -0.022387  0.025813 -0.046721  1.000000 -0.004614  0.003605\n",
       "Make     0.024514 -0.035595  0.007524 -0.004614  1.000000  0.034746\n",
       "Model   -0.022300  0.048124 -0.002942  0.003605  0.034746  1.000000"
      ]
     },
     "execution_count": 26,
     "metadata": {},
     "output_type": "execute_result"
    }
   ],
   "source": [
    "vehicle_top_price.corr()"
   ]
  },
  {
   "cell_type": "code",
   "execution_count": 27,
   "metadata": {
    "scrolled": false
   },
   "outputs": [
    {
     "data": {
      "text/html": [
       "<div>\n",
       "<style scoped>\n",
       "    .dataframe tbody tr th:only-of-type {\n",
       "        vertical-align: middle;\n",
       "    }\n",
       "\n",
       "    .dataframe tbody tr th {\n",
       "        vertical-align: top;\n",
       "    }\n",
       "\n",
       "    .dataframe thead th {\n",
       "        text-align: right;\n",
       "    }\n",
       "</style>\n",
       "<table border=\"1\" class=\"dataframe\">\n",
       "  <thead>\n",
       "    <tr style=\"text-align: right;\">\n",
       "      <th></th>\n",
       "      <th>Year</th>\n",
       "      <th>Mileage</th>\n",
       "      <th>City</th>\n",
       "      <th>State</th>\n",
       "      <th>Make</th>\n",
       "      <th>Model</th>\n",
       "    </tr>\n",
       "  </thead>\n",
       "  <tbody>\n",
       "    <tr>\n",
       "      <th>count</th>\n",
       "      <td>830059.000000</td>\n",
       "      <td>830059.000000</td>\n",
       "      <td>830059.00000</td>\n",
       "      <td>830059.000000</td>\n",
       "      <td>830059.000000</td>\n",
       "      <td>830059.000000</td>\n",
       "    </tr>\n",
       "    <tr>\n",
       "      <th>mean</th>\n",
       "      <td>16.237171</td>\n",
       "      <td>1.000000</td>\n",
       "      <td>1236.28414</td>\n",
       "      <td>27.770590</td>\n",
       "      <td>23.709622</td>\n",
       "      <td>1171.423205</td>\n",
       "    </tr>\n",
       "    <tr>\n",
       "      <th>std</th>\n",
       "      <td>3.420433</td>\n",
       "      <td>0.767342</td>\n",
       "      <td>719.32115</td>\n",
       "      <td>17.230939</td>\n",
       "      <td>14.559218</td>\n",
       "      <td>711.668635</td>\n",
       "    </tr>\n",
       "    <tr>\n",
       "      <th>min</th>\n",
       "      <td>0.000000</td>\n",
       "      <td>0.000094</td>\n",
       "      <td>0.00000</td>\n",
       "      <td>0.000000</td>\n",
       "      <td>0.000000</td>\n",
       "      <td>0.000000</td>\n",
       "    </tr>\n",
       "    <tr>\n",
       "      <th>25%</th>\n",
       "      <td>15.000000</td>\n",
       "      <td>0.461631</td>\n",
       "      <td>596.00000</td>\n",
       "      <td>11.000000</td>\n",
       "      <td>11.000000</td>\n",
       "      <td>594.000000</td>\n",
       "    </tr>\n",
       "    <tr>\n",
       "      <th>50%</th>\n",
       "      <td>17.000000</td>\n",
       "      <td>0.769892</td>\n",
       "      <td>1219.00000</td>\n",
       "      <td>27.000000</td>\n",
       "      <td>20.000000</td>\n",
       "      <td>1043.000000</td>\n",
       "    </tr>\n",
       "    <tr>\n",
       "      <th>75%</th>\n",
       "      <td>19.000000</td>\n",
       "      <td>1.378275</td>\n",
       "      <td>1851.00000</td>\n",
       "      <td>44.000000</td>\n",
       "      <td>37.000000</td>\n",
       "      <td>1882.000000</td>\n",
       "    </tr>\n",
       "    <tr>\n",
       "      <th>max</th>\n",
       "      <td>21.000000</td>\n",
       "      <td>5.639271</td>\n",
       "      <td>2551.00000</td>\n",
       "      <td>58.000000</td>\n",
       "      <td>52.000000</td>\n",
       "      <td>2551.000000</td>\n",
       "    </tr>\n",
       "  </tbody>\n",
       "</table>\n",
       "</div>"
      ],
      "text/plain": [
       "                Year        Mileage          City          State  \\\n",
       "count  830059.000000  830059.000000  830059.00000  830059.000000   \n",
       "mean       16.237171       1.000000    1236.28414      27.770590   \n",
       "std         3.420433       0.767342     719.32115      17.230939   \n",
       "min         0.000000       0.000094       0.00000       0.000000   \n",
       "25%        15.000000       0.461631     596.00000      11.000000   \n",
       "50%        17.000000       0.769892    1219.00000      27.000000   \n",
       "75%        19.000000       1.378275    1851.00000      44.000000   \n",
       "max        21.000000       5.639271    2551.00000      58.000000   \n",
       "\n",
       "                Make          Model  \n",
       "count  830059.000000  830059.000000  \n",
       "mean       23.709622    1171.423205  \n",
       "std        14.559218     711.668635  \n",
       "min         0.000000       0.000000  \n",
       "25%        11.000000     594.000000  \n",
       "50%        20.000000    1043.000000  \n",
       "75%        37.000000    1882.000000  \n",
       "max        52.000000    2551.000000  "
      ]
     },
     "execution_count": 27,
     "metadata": {},
     "output_type": "execute_result"
    }
   ],
   "source": [
    "vehicle_top_price.describe()"
   ]
  },
  {
   "cell_type": "code",
   "execution_count": 28,
   "metadata": {
    "scrolled": true
   },
   "outputs": [
    {
     "data": {
      "text/plain": [
       "class\n",
       "0     31065\n",
       "1    111154\n",
       "2    195025\n",
       "3    162034\n",
       "4    110875\n",
       "5     90624\n",
       "6     58890\n",
       "7     37314\n",
       "8     19360\n",
       "9     13718\n",
       "dtype: int64"
      ]
     },
     "execution_count": 28,
     "metadata": {},
     "output_type": "execute_result"
    }
   ],
   "source": [
    "vehicle_top_price.groupby('class').size()"
   ]
  },
  {
   "cell_type": "markdown",
   "metadata": {},
   "source": [
    "### 3.4 EDA"
   ]
  },
  {
   "cell_type": "code",
   "execution_count": 29,
   "metadata": {},
   "outputs": [],
   "source": [
    "# profile_n = pp.ProfileReport(vehicle_top_price, title='Pandas Profiling Report')\n",
    "# profile_n.to_widgets()"
   ]
  },
  {
   "cell_type": "markdown",
   "metadata": {},
   "source": [
    "### 3.5 Classification  "
   ]
  },
  {
   "cell_type": "code",
   "execution_count": 30,
   "metadata": {},
   "outputs": [],
   "source": [
    "from sklearn.model_selection import KFold, train_test_split\n",
    "\n",
    "from sklearn.metrics import accuracy_score, balanced_accuracy_score\n",
    "\n",
    "# models\n",
    "from sklearn.linear_model import LinearRegression, SGDRegressor, RidgeCV\n",
    "from sklearn.svm import SVC\n",
    "\n",
    "from sklearn.neural_network import MLPClassifier\n",
    "\n",
    "from sklearn.ensemble import RandomForestClassifier, AdaBoostClassifier\n",
    "\n",
    "from sklearn.tree import DecisionTreeClassifier\n",
    "\n",
    "from sklearn.neighbors import KNeighborsClassifier\n",
    "\n",
    "from sklearn.gaussian_process import GaussianProcessClassifier\n",
    "from sklearn.gaussian_process.kernels import RBF\n",
    "\n",
    "from sklearn.naive_bayes import GaussianNB\n",
    "from sklearn.discriminant_analysis import QuadraticDiscriminantAnalysis"
   ]
  },
  {
   "cell_type": "code",
   "execution_count": 31,
   "metadata": {
    "scrolled": true
   },
   "outputs": [],
   "source": [
    "def accuracy_model(clf, train_x, test_x, train_y, test_y):    \n",
    "    clf.fit(train_x, train_y)\n",
    "\n",
    "    print(\"\\n### training performance\")\n",
    "    pred_train = clf.predict(train_x)\n",
    "    acc_train_r2_num = round(balanced_accuracy_score(train_y, pred_train) * 100, 2)\n",
    "    print('accuracy for training =', acc_train_r2_num)\n",
    "\n",
    "    print(\"### Test performance\")    \n",
    "    pred_y = clf.predict(test_x)\n",
    "    acc_train_r2_num = round(accuracy_score(test_y, pred_y) * 100, 2)\n",
    "    print('Accuracy score for testing =', acc_train_r2_num)  \n",
    "    acc_train_r2_num = round(balanced_accuracy_score(test_y, pred_y) * 100, 2)\n",
    "    print('Balanced accuracy score for testing =', acc_train_r2_num)  \n",
    "    \n",
    "    return acc_train_r2_num"
   ]
  },
  {
   "cell_type": "code",
   "execution_count": 32,
   "metadata": {},
   "outputs": [],
   "source": [
    "#added some parameters\n",
    "# https://stackoverflow.com/a/45116022\n",
    "k_fold_5 = KFold(n_splits = 5, shuffle = True, random_state = 2)"
   ]
  },
  {
   "cell_type": "code",
   "execution_count": 33,
   "metadata": {
    "scrolled": true
   },
   "outputs": [
    {
     "data": {
      "text/html": [
       "<div>\n",
       "<style scoped>\n",
       "    .dataframe tbody tr th:only-of-type {\n",
       "        vertical-align: middle;\n",
       "    }\n",
       "\n",
       "    .dataframe tbody tr th {\n",
       "        vertical-align: top;\n",
       "    }\n",
       "\n",
       "    .dataframe thead th {\n",
       "        text-align: right;\n",
       "    }\n",
       "</style>\n",
       "<table border=\"1\" class=\"dataframe\">\n",
       "  <thead>\n",
       "    <tr style=\"text-align: right;\">\n",
       "      <th></th>\n",
       "      <th>Year</th>\n",
       "      <th>Mileage</th>\n",
       "      <th>City</th>\n",
       "      <th>State</th>\n",
       "      <th>Make</th>\n",
       "      <th>Model</th>\n",
       "    </tr>\n",
       "  </thead>\n",
       "  <tbody>\n",
       "    <tr>\n",
       "      <th>443824</th>\n",
       "      <td>14</td>\n",
       "      <td>1.382054</td>\n",
       "      <td>1441</td>\n",
       "      <td>1</td>\n",
       "      <td>21</td>\n",
       "      <td>715</td>\n",
       "    </tr>\n",
       "    <tr>\n",
       "      <th>9398</th>\n",
       "      <td>17</td>\n",
       "      <td>0.399956</td>\n",
       "      <td>83</td>\n",
       "      <td>42</td>\n",
       "      <td>1</td>\n",
       "      <td>1708</td>\n",
       "    </tr>\n",
       "    <tr>\n",
       "      <th>812850</th>\n",
       "      <td>15</td>\n",
       "      <td>2.020758</td>\n",
       "      <td>788</td>\n",
       "      <td>51</td>\n",
       "      <td>49</td>\n",
       "      <td>2211</td>\n",
       "    </tr>\n",
       "    <tr>\n",
       "      <th>538175</th>\n",
       "      <td>17</td>\n",
       "      <td>1.683097</td>\n",
       "      <td>1260</td>\n",
       "      <td>6</td>\n",
       "      <td>26</td>\n",
       "      <td>2012</td>\n",
       "    </tr>\n",
       "    <tr>\n",
       "      <th>401344</th>\n",
       "      <td>19</td>\n",
       "      <td>0.284539</td>\n",
       "      <td>2509</td>\n",
       "      <td>49</td>\n",
       "      <td>20</td>\n",
       "      <td>213</td>\n",
       "    </tr>\n",
       "  </tbody>\n",
       "</table>\n",
       "</div>"
      ],
      "text/plain": [
       "        Year   Mileage  City  State  Make  Model\n",
       "443824    14  1.382054  1441      1    21    715\n",
       "9398      17  0.399956    83     42     1   1708\n",
       "812850    15  2.020758   788     51    49   2211\n",
       "538175    17  1.683097  1260      6    26   2012\n",
       "401344    19  0.284539  2509     49    20    213"
      ]
     },
     "execution_count": 33,
     "metadata": {},
     "output_type": "execute_result"
    }
   ],
   "source": [
    "target_name = 'class'\n",
    "train_target = vehicle_top_price[target_name]\n",
    "\n",
    "vehicle_top_price = vehicle_top_price.drop([target_name], axis=1)\n",
    "vehicle_top_price.sample(5)"
   ]
  },
  {
   "cell_type": "code",
   "execution_count": 34,
   "metadata": {},
   "outputs": [],
   "source": [
    "vehicle_top_price = StandardScaler().fit_transform(vehicle_top_price)\n",
    "train0, test0, train_target0, test_target0 = train_test_split(vehicle_top_price, train_target, \n",
    "                                                              stratify=train_target[:], \n",
    "                                                              test_size=0.2, random_state=0)"
   ]
  },
  {
   "cell_type": "code",
   "execution_count": 35,
   "metadata": {},
   "outputs": [
    {
     "data": {
      "text/plain": [
       "(array([0, 1, 2, 3, 4, 5, 6, 7, 8, 9], dtype=int64),\n",
       " array([ 24852,  88923, 156020, 129627,  88700,  72499,  47112,  29851,\n",
       "         15488,  10975], dtype=int64))"
      ]
     },
     "execution_count": 35,
     "metadata": {},
     "output_type": "execute_result"
    }
   ],
   "source": [
    "uniqueValues, occurCount = np.unique(train_target0, return_counts=True)\n",
    "uniqueValues, occurCount"
   ]
  },
  {
   "cell_type": "markdown",
   "metadata": {},
   "source": [
    "Class: [ 0,  1,  2,  3,  4,  5,  6,  7,  8,  9, 10, 11] <br>\n",
    "\n",
    "    Dataset Dist:  [21160, 70933, 135175, 163852, 128996, 90037, 74626, 55841, 38631, 23406, 15236, 12166]\n",
    "    Training Dist: [16928, 56746, 108140, 131081, 103197, 72029, 59701, 44673, 30905, 18725, 12189,  9733]"
   ]
  },
  {
   "cell_type": "code",
   "execution_count": null,
   "metadata": {},
   "outputs": [
    {
     "name": "stdout",
     "output_type": "stream",
     "text": [
      "# Number of Class: 10\n",
      "\n",
      "## Training for Nearest Neighbors starting ****\n",
      "\n",
      "### training performance\n",
      "accuracy for training = 63.03\n",
      "### Test performance\n",
      "Accuracy score for testing = 36.63\n",
      "Balanced accuracy score for testing = 36.53\n",
      "\n",
      "### training performance\n",
      "accuracy for training = 63.07\n",
      "### Test performance\n",
      "Accuracy score for testing = 36.53\n",
      "Balanced accuracy score for testing = 36.49\n",
      "\n",
      "### training performance\n",
      "accuracy for training = 63.01\n",
      "### Test performance\n",
      "Accuracy score for testing = 36.64\n",
      "Balanced accuracy score for testing = 36.57\n",
      "\n",
      "### training performance\n",
      "accuracy for training = 62.99\n",
      "### Test performance\n",
      "Accuracy score for testing = 36.49\n",
      "Balanced accuracy score for testing = 36.51\n",
      "\n",
      "### training performance\n",
      "accuracy for training = 62.95\n",
      "### Test performance\n",
      "Accuracy score for testing = 36.55\n",
      "Balanced accuracy score for testing = 36.51\n",
      "\n",
      "Avg Accuracy Score: 36.522\n",
      "\n",
      "## Training for Decision Tree starting ****\n",
      "\n",
      "### training performance\n",
      "accuracy for training = 24.0\n",
      "### Test performance\n",
      "Accuracy score for testing = 24.19\n",
      "Balanced accuracy score for testing = 24.03\n",
      "\n",
      "### training performance\n",
      "accuracy for training = 23.97\n",
      "### Test performance\n",
      "Accuracy score for testing = 23.91\n",
      "Balanced accuracy score for testing = 23.84\n",
      "\n",
      "### training performance\n",
      "accuracy for training = 24.02\n",
      "### Test performance\n",
      "Accuracy score for testing = 24.14\n",
      "Balanced accuracy score for testing = 24.03\n",
      "\n",
      "### training performance\n",
      "accuracy for training = 23.94\n",
      "### Test performance\n",
      "Accuracy score for testing = 23.95\n",
      "Balanced accuracy score for testing = 23.86\n",
      "\n",
      "### training performance\n",
      "accuracy for training = 24.01\n",
      "### Test performance\n",
      "Accuracy score for testing = 24.14\n",
      "Balanced accuracy score for testing = 24.02\n",
      "\n",
      "Avg Accuracy Score: 23.956\n",
      "\n",
      "## Training for Random Forest starting ****\n",
      "\n",
      "### training performance\n",
      "accuracy for training = 23.9\n",
      "### Test performance\n",
      "Accuracy score for testing = 23.97\n",
      "Balanced accuracy score for testing = 23.73\n",
      "\n",
      "### training performance\n",
      "accuracy for training = 24.61\n",
      "### Test performance\n",
      "Accuracy score for testing = 24.69\n",
      "Balanced accuracy score for testing = 24.59\n",
      "\n",
      "### training performance\n",
      "accuracy for training = 25.04\n",
      "### Test performance\n",
      "Accuracy score for testing = 25.35\n",
      "Balanced accuracy score for testing = 25.11\n",
      "\n",
      "### training performance\n",
      "accuracy for training = 25.03\n",
      "### Test performance\n",
      "Accuracy score for testing = 25.0\n",
      "Balanced accuracy score for testing = 24.99\n",
      "\n",
      "### training performance\n",
      "accuracy for training = 24.84\n",
      "### Test performance\n",
      "Accuracy score for testing = 24.9\n",
      "Balanced accuracy score for testing = 24.78\n",
      "\n",
      "Avg Accuracy Score: 24.64\n",
      "\n",
      "## Training for Neural Net starting ****\n",
      "\n",
      "### training performance\n",
      "accuracy for training = 24.03\n",
      "### Test performance\n",
      "Accuracy score for testing = 24.15\n",
      "Balanced accuracy score for testing = 23.9\n",
      "\n",
      "### training performance\n",
      "accuracy for training = 23.95\n",
      "### Test performance\n",
      "Accuracy score for testing = 24.03\n",
      "Balanced accuracy score for testing = 23.89\n"
     ]
    }
   ],
   "source": [
    "# https://scikit-learn.org/stable/auto_examples/classification/plot_classifier_comparison.html\n",
    "\n",
    "names = [\"Nearest Neighbors\", \n",
    "#          \"Linear SVM\", \"RBF SVM\", \n",
    "#          \"Gaussian Process\",\n",
    "         \"Decision Tree\", \"Random Forest\", \"Neural Net\", \"AdaBoost\",\n",
    "         \"Naive Bayes\", \"QDA\"]\n",
    "\n",
    "classifiers = [\n",
    "    KNeighborsClassifier(3),\n",
    "#     SVC(kernel=\"linear\", C=0.025),\n",
    "#     SVC(gamma=2, C=1),\n",
    "#     GaussianProcessClassifier(1.0 * RBF(1.0)),\n",
    "    DecisionTreeClassifier(max_depth=5),\n",
    "    RandomForestClassifier(max_depth=5, n_estimators=10, max_features=1),\n",
    "    MLPClassifier(alpha=1, max_iter=1000),\n",
    "    AdaBoostClassifier(),\n",
    "    GaussianNB(),\n",
    "    QuadraticDiscriminantAnalysis()]\n",
    "\n",
    "print(\"# Number of Class:\", num_class)\n",
    "for name, clf in zip(names, classifiers):\n",
    "    print(\"\\n## Training for {} starting ****\".format(name))\n",
    "    accuracy_scores = []\n",
    "    for train_index, test_index in k_fold_5.split(train0):\n",
    "        train_x = train0[train_index][:]\n",
    "        test_x  = train0[test_index][:]\n",
    "\n",
    "        train_y =  train_target0.iloc[train_index][:]\n",
    "        test_y  =  train_target0.iloc[test_index][:]\n",
    "\n",
    "        accuracy_scores.append(accuracy_model(clf, train_x, test_x, train_y, test_y))\n",
    "    print(\"\\nAvg Accuracy Score:\", round(np.mean(accuracy_scores), 3))"
   ]
  },
  {
   "cell_type": "markdown",
   "metadata": {},
   "source": [
    "### 3.5.1 yellowbrick"
   ]
  },
  {
   "cell_type": "code",
   "execution_count": 36,
   "metadata": {},
   "outputs": [],
   "source": [
    "from yellowbrick.classifier import ClassPredictionError"
   ]
  },
  {
   "cell_type": "code",
   "execution_count": 37,
   "metadata": {},
   "outputs": [
    {
     "name": "stderr",
     "output_type": "stream",
     "text": [
      "E:\\ProgramData\\Anaconda3\\lib\\site-packages\\sklearn\\base.py:213: FutureWarning: From version 0.24, get_params will raise an AttributeError if a parameter cannot be retrieved as an instance attribute. Previously it would return None.\n",
      "  FutureWarning)\n"
     ]
    },
    {
     "data": {
      "image/png": "[encoded data removed]",
      "text/plain": [
       "<Figure size 576x396 with 1 Axes>"
      ]
     },
     "metadata": {},
     "output_type": "display_data"
    },
    {
     "data": {
      "text/plain": [
       "<AxesSubplot:title={'center':'Class Prediction Error for KNeighborsClassifier'}, xlabel='actual class', ylabel='number of predicted class'>"
      ]
     },
     "execution_count": 37,
     "metadata": {},
     "output_type": "execute_result"
    }
   ],
   "source": [
    "# Instantiate the classification model and visualizer\n",
    "visualizer = ClassPredictionError(KNeighborsClassifier(3), classes=np.arange(num_class))\n",
    "\n",
    "# Fit the training data to the visualizer\n",
    "visualizer.fit(train0, train_target0)\n",
    "\n",
    "# Evaluate the model on the test data\n",
    "visualizer.score(test0, test_target0)\n",
    "\n",
    "# Draw visualization\n",
    "visualizer.show()"
   ]
  }
 ],
 "metadata": {
  "kernelspec": {
   "display_name": "Python 3",
   "language": "python",
   "name": "python3"
  },
  "language_info": {
   "codemirror_mode": {
    "name": "ipython",
    "version": 3
   },
   "file_extension": ".py",
   "mimetype": "text/x-python",
   "name": "python",
   "nbconvert_exporter": "python",
   "pygments_lexer": "ipython3",
   "version": "3.7.3"
  }
 },
 "nbformat": 4,
 "nbformat_minor": 4
}
